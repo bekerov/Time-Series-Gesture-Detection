{
 "cells": [
  {
   "cell_type": "markdown",
   "metadata": {},
   "source": [
    "# XGBoost Parameter Tuning\n",
    "In this notebook, I do a comprehensive parameter tuning on the Gradient Boosting model to increase performance, doing grid searches across hyperparameters, and applying early stoppage to reduce overfitting."
   ]
  },
  {
   "cell_type": "code",
   "execution_count": 1,
   "metadata": {
    "collapsed": true
   },
   "outputs": [],
   "source": [
    "import pandas as pd\n",
    "import numpy as np\n",
    "import seaborn as sns\n",
    "from sklearn.model_selection import train_test_split\n",
    "from sklearn.model_selection import GridSearchCV\n",
    "from sklearn.ensemble import RandomForestClassifier\n",
    "from sklearn.linear_model import LogisticRegression\n",
    "from tsfresh import extract_features\n",
    "from tsfresh.utilities.dataframe_functions import impute\n",
    "import matplotlib.pyplot as plt\n",
    "import warnings\n",
    "\n",
    "warnings.filterwarnings('ignore')\n",
    "\n",
    "%matplotlib inline"
   ]
  },
  {
   "cell_type": "code",
   "execution_count": 2,
   "metadata": {
    "collapsed": true
   },
   "outputs": [],
   "source": [
    "df = pd.read_csv('ExtractedFinalDataset.csv')"
   ]
  },
  {
   "cell_type": "code",
   "execution_count": 3,
   "metadata": {
    "collapsed": true
   },
   "outputs": [],
   "source": [
    "bad_features = []\n",
    "for i in range(8):\n",
    "    langevin = str(i) + \"__max_langevin_fixed_point__m_3__r_30\"\n",
    "    bad_features.append(langevin)\n",
    "    for j in range(9):\n",
    "        quantile = (j+1)*0.1\n",
    "        if quantile != 0.5:\n",
    "            feature_name = str(i) + \"__index_mass_quantile__q_\" + str(quantile)\n",
    "            bad_features.append(feature_name)"
   ]
  },
  {
   "cell_type": "code",
   "execution_count": 4,
   "metadata": {
    "collapsed": true
   },
   "outputs": [],
   "source": [
    "df = df.drop(bad_features, axis=1)"
   ]
  },
  {
   "cell_type": "code",
   "execution_count": 5,
   "metadata": {
    "collapsed": true
   },
   "outputs": [],
   "source": [
    "df.index = df['9']\n",
    "df = df.drop(['9'], axis=1)\n",
    "df['Label'] = \"One\"\n",
    "df['Label'][2001.0 <= df.index ] = \"Two\"\n",
    "df['Label'][4001.0 <= df.index ] = \"Three\"\n",
    "df['Label'][6001.0 <= df.index ] = \"Four\"\n",
    "df['Label'][8001.0 <= df.index ] = \"Five\"\n",
    "df['Label'][10001.0 <= df.index ] = \"Six\""
   ]
  },
  {
   "cell_type": "code",
   "execution_count": 6,
   "metadata": {
    "collapsed": true
   },
   "outputs": [],
   "source": [
    "df = df[1:]"
   ]
  },
  {
   "cell_type": "code",
   "execution_count": 7,
   "metadata": {
    "collapsed": true
   },
   "outputs": [],
   "source": [
    "df.columns = df.columns.map(lambda t: str(t))\n",
    "df = df.sort_index(axis=1)"
   ]
  },
  {
   "cell_type": "code",
   "execution_count": 8,
   "metadata": {
    "collapsed": true
   },
   "outputs": [],
   "source": [
    "extracted_features = df"
   ]
  },
  {
   "cell_type": "code",
   "execution_count": 9,
   "metadata": {
    "collapsed": false
   },
   "outputs": [
    {
     "data": {
      "text/plain": [
       "(240, 1705)"
      ]
     },
     "execution_count": 9,
     "metadata": {},
     "output_type": "execute_result"
    }
   ],
   "source": [
    "subsample = extracted_features.sample(frac=0.02).reset_index(drop=True)\n",
    "subsample.shape"
   ]
  },
  {
   "cell_type": "code",
   "execution_count": 10,
   "metadata": {
    "collapsed": true
   },
   "outputs": [],
   "source": [
    "X = subsample.drop(['Label'], 1)\n",
    "y = subsample['Label']\n",
    "X_train, X_test, y_train, y_test = train_test_split(X, y, test_size=0.3, random_state=42)"
   ]
  },
  {
   "cell_type": "code",
   "execution_count": 12,
   "metadata": {
    "collapsed": false
   },
   "outputs": [],
   "source": [
    "import xgboost as xgb\n",
    "cv_params = {'max_depth': [3,5,7], 'min_child_weight': [1,3,5]}\n",
    "ind_params = {'learning_rate': 0.1, 'n_estimators': 1000, 'seed':0, 'subsample': 0.8, 'colsample_bytree': 0.8, \n",
    "             'objective': 'binary:logistic'}\n",
    "optimized_GBM = GridSearchCV(xgb.XGBClassifier(**ind_params), \n",
    "                            cv_params, \n",
    "                             scoring = 'accuracy', cv = 5, n_jobs = -1) "
   ]
  },
  {
   "cell_type": "code",
   "execution_count": 13,
   "metadata": {
    "collapsed": false
   },
   "outputs": [
    {
     "data": {
      "text/plain": [
       "GridSearchCV(cv=5, error_score='raise',\n",
       "       estimator=XGBClassifier(base_score=0.5, colsample_bylevel=1, colsample_bytree=0.8,\n",
       "       gamma=0, learning_rate=0.1, max_delta_step=0, max_depth=3,\n",
       "       min_child_weight=1, missing=None, n_estimators=1000, nthread=-1,\n",
       "       objective='binary:logistic', reg_alpha=0, reg_lambda=1,\n",
       "       scale_pos_weight=1, seed=0, silent=True, subsample=0.8),\n",
       "       fit_params={}, iid=True, n_jobs=-1,\n",
       "       param_grid={'max_depth': [3, 5, 7], 'min_child_weight': [1, 3, 5]},\n",
       "       pre_dispatch='2*n_jobs', refit=True, return_train_score=True,\n",
       "       scoring='accuracy', verbose=0)"
      ]
     },
     "execution_count": 13,
     "metadata": {},
     "output_type": "execute_result"
    }
   ],
   "source": [
    "optimized_GBM.fit(X_train, y_train)"
   ]
  },
  {
   "cell_type": "code",
   "execution_count": 14,
   "metadata": {
    "collapsed": false
   },
   "outputs": [
    {
     "data": {
      "text/plain": [
       "[mean: 0.66667, std: 0.05789, params: {'max_depth': 3, 'min_child_weight': 1},\n",
       " mean: 0.65476, std: 0.02326, params: {'max_depth': 3, 'min_child_weight': 3},\n",
       " mean: 0.65476, std: 0.04901, params: {'max_depth': 3, 'min_child_weight': 5},\n",
       " mean: 0.66071, std: 0.05527, params: {'max_depth': 5, 'min_child_weight': 1},\n",
       " mean: 0.67262, std: 0.03596, params: {'max_depth': 5, 'min_child_weight': 3},\n",
       " mean: 0.66667, std: 0.03882, params: {'max_depth': 5, 'min_child_weight': 5},\n",
       " mean: 0.67262, std: 0.03976, params: {'max_depth': 7, 'min_child_weight': 1},\n",
       " mean: 0.67262, std: 0.03596, params: {'max_depth': 7, 'min_child_weight': 3},\n",
       " mean: 0.66667, std: 0.03882, params: {'max_depth': 7, 'min_child_weight': 5}]"
      ]
     },
     "execution_count": 14,
     "metadata": {},
     "output_type": "execute_result"
    }
   ],
   "source": [
    "optimized_GBM.grid_scores_"
   ]
  },
  {
   "cell_type": "markdown",
   "metadata": {},
   "source": [
    "Individually tuning some XGBoost Parameters until we find the best combination since gridsearch will take too long at this point."
   ]
  },
  {
   "cell_type": "code",
   "execution_count": 11,
   "metadata": {
    "collapsed": false
   },
   "outputs": [
    {
     "name": "stdout",
     "output_type": "stream",
     "text": [
      "Training accuracy: 1.0\n",
      "Test accuracy: 0.722222222222\n"
     ]
    }
   ],
   "source": [
    "model = xgboost.XGBClassifier(learning_rate =0.05,\n",
    " n_estimators=3000,\n",
    " max_depth=4,\n",
    " min_child_weight=1,\n",
    " gamma=0,\n",
    " subsample=0.8,\n",
    " colsample_bytree=0.8,\n",
    " reg_alpha=0.005,\n",
    " objective= 'multi:softmax',\n",
    " nthread=4,\n",
    " scale_pos_weight=1,\n",
    " seed=27)\n",
    "\n",
    "model.fit(np.array(X_train), np.array(y_train))\n",
    "\n",
    "print 'Training accuracy:', model.score(np.array(X_train), np.array(y_train))\n",
    "print 'Test accuracy:', model.score(np.array(X_test), np.array(y_test))"
   ]
  },
  {
   "cell_type": "code",
   "execution_count": 12,
   "metadata": {
    "collapsed": false
   },
   "outputs": [
    {
     "name": "stdout",
     "output_type": "stream",
     "text": [
      "Training accuracy: 1.0\n",
      "Test accuracy: 0.763888888889\n"
     ]
    }
   ],
   "source": [
    "model = xgboost.XGBClassifier(learning_rate =0.05,\n",
    " n_estimators=3000,\n",
    " max_depth=4,\n",
    " min_child_weight=1,\n",
    " gamma=0.1,\n",
    " subsample=0.8,\n",
    " colsample_bytree=0.8,\n",
    " reg_alpha=0.005,\n",
    " objective= 'multi:softmax',\n",
    " nthread=4,\n",
    " scale_pos_weight=1,\n",
    " seed=27)\n",
    "\n",
    "model.fit(np.array(X_train), np.array(y_train))\n",
    "\n",
    "print 'Training accuracy:', model.score(np.array(X_train), np.array(y_train))\n",
    "print 'Test accuracy:', model.score(np.array(X_test), np.array(y_test))"
   ]
  },
  {
   "cell_type": "markdown",
   "metadata": {},
   "source": [
    "Incredibly impressive accuracy for only using 2% of the training set."
   ]
  },
  {
   "cell_type": "code",
   "execution_count": 13,
   "metadata": {
    "collapsed": false
   },
   "outputs": [
    {
     "name": "stdout",
     "output_type": "stream",
     "text": [
      "Training accuracy: 1.0\n",
      "Test accuracy: 0.763888888889\n"
     ]
    }
   ],
   "source": [
    "model = xgboost.XGBClassifier(learning_rate =0.1,\n",
    " n_estimators=3000,\n",
    " max_depth=4,\n",
    " min_child_weight=1,\n",
    " gamma=0.1,\n",
    " subsample=0.8,\n",
    " colsample_bytree=0.8,\n",
    " reg_alpha=0.005,\n",
    " objective= 'multi:softmax',\n",
    " nthread=4,\n",
    " scale_pos_weight=1,\n",
    " seed=27)\n",
    "\n",
    "model.fit(np.array(X_train), np.array(y_train))\n",
    "\n",
    "print 'Training accuracy:', model.score(np.array(X_train), np.array(y_train))\n",
    "print 'Test accuracy:', model.score(np.array(X_test), np.array(y_test))"
   ]
  },
  {
   "cell_type": "code",
   "execution_count": 14,
   "metadata": {
    "collapsed": false
   },
   "outputs": [
    {
     "name": "stdout",
     "output_type": "stream",
     "text": [
      "Training accuracy: 1.0\n",
      "Test accuracy: 0.777777777778\n"
     ]
    }
   ],
   "source": [
    "model = xgboost.XGBClassifier(learning_rate =0.1,\n",
    " n_estimators=3000,\n",
    " max_depth=4,\n",
    " min_child_weight=1,\n",
    " gamma=0.2,\n",
    " subsample=0.8,\n",
    " colsample_bytree=0.8,\n",
    " reg_alpha=0.005,\n",
    " objective= 'multi:softmax',\n",
    " nthread=4,\n",
    " scale_pos_weight=1,\n",
    " seed=27)\n",
    "\n",
    "model.fit(np.array(X_train), np.array(y_train))\n",
    "\n",
    "print 'Training accuracy:', model.score(np.array(X_train), np.array(y_train))\n",
    "print 'Test accuracy:', model.score(np.array(X_test), np.array(y_test))"
   ]
  },
  {
   "cell_type": "code",
   "execution_count": 15,
   "metadata": {
    "collapsed": false
   },
   "outputs": [
    {
     "name": "stdout",
     "output_type": "stream",
     "text": [
      "Training accuracy: 1.0\n",
      "Test accuracy: 0.777777777778\n"
     ]
    }
   ],
   "source": [
    "model = xgboost.XGBClassifier(learning_rate =0.2,\n",
    " n_estimators=3000,\n",
    " max_depth=4,\n",
    " min_child_weight=1,\n",
    " gamma=0.2,\n",
    " subsample=0.8,\n",
    " colsample_bytree=0.8,\n",
    " reg_alpha=0.005,\n",
    " objective= 'multi:softmax',\n",
    " nthread=8,\n",
    " scale_pos_weight=1,\n",
    " seed=27)\n",
    "\n",
    "model.fit(np.array(X_train), np.array(y_train))\n",
    "\n",
    "print 'Training accuracy:', model.score(np.array(X_train), np.array(y_train))\n",
    "print 'Test accuracy:', model.score(np.array(X_test), np.array(y_test))"
   ]
  },
  {
   "cell_type": "code",
   "execution_count": 17,
   "metadata": {
    "collapsed": false
   },
   "outputs": [
    {
     "name": "stdout",
     "output_type": "stream",
     "text": [
      "Training accuracy: 1.0\n",
      "Test accuracy: 0.777777777778\n"
     ]
    }
   ],
   "source": [
    "model = xgboost.XGBClassifier(learning_rate =0.1,\n",
    " n_estimators=3000,\n",
    " max_depth=7,\n",
    " min_child_weight=1,\n",
    " gamma=0.2,\n",
    " subsample=0.5,\n",
    " colsample_bytree=0.8,\n",
    " reg_alpha=0.005,\n",
    " objective= 'multi:softmax',\n",
    " nthread=8,\n",
    " scale_pos_weight=1,\n",
    " seed=27)\n",
    "\n",
    "model.fit(np.array(X_train), np.array(y_train))\n",
    "\n",
    "print 'Training accuracy:', model.score(np.array(X_train), np.array(y_train))\n",
    "print 'Test accuracy:', model.score(np.array(X_test), np.array(y_test))"
   ]
  },
  {
   "cell_type": "code",
   "execution_count": 18,
   "metadata": {
    "collapsed": false
   },
   "outputs": [
    {
     "name": "stdout",
     "output_type": "stream",
     "text": [
      "Training accuracy: 1.0\n",
      "Test accuracy: 0.736111111111\n"
     ]
    }
   ],
   "source": [
    "model = xgboost.XGBClassifier(learning_rate =0.1,\n",
    " n_estimators=3000,\n",
    " max_depth=7,\n",
    " min_child_weight=1,\n",
    " gamma=0.2,\n",
    " subsample=0.5,\n",
    " colsample_bytree=0.8,\n",
    " reg_alpha=0.005,\n",
    " objective= 'multi:softmax',\n",
    " nthread=8,\n",
    " scale_pos_weight=1,\n",
    " seed=27)\n",
    "\n",
    "model.fit(np.array(X_train), np.array(y_train))\n",
    "\n",
    "print 'Training accuracy:', model.score(np.array(X_train), np.array(y_train))\n",
    "print 'Test accuracy:', model.score(np.array(X_test), np.array(y_test))"
   ]
  },
  {
   "cell_type": "code",
   "execution_count": 19,
   "metadata": {
    "collapsed": false
   },
   "outputs": [
    {
     "name": "stdout",
     "output_type": "stream",
     "text": [
      "Training accuracy: 1.0\n",
      "Test accuracy: 0.75\n"
     ]
    }
   ],
   "source": [
    "model = xgboost.XGBClassifier(learning_rate =0.1,\n",
    " n_estimators=3000,\n",
    " max_depth=7,\n",
    " min_child_weight=1,\n",
    " gamma=0.2,\n",
    " subsample=0.9,\n",
    " colsample_bytree=0.8,\n",
    " reg_alpha=0.005,\n",
    " objective= 'multi:softmax',\n",
    " nthread=8,\n",
    " scale_pos_weight=1,\n",
    " seed=27)\n",
    "\n",
    "model.fit(np.array(X_train), np.array(y_train))\n",
    "\n",
    "print 'Training accuracy:', model.score(np.array(X_train), np.array(y_train))\n",
    "print 'Test accuracy:', model.score(np.array(X_test), np.array(y_test))"
   ]
  },
  {
   "cell_type": "code",
   "execution_count": 20,
   "metadata": {
    "collapsed": false
   },
   "outputs": [
    {
     "name": "stdout",
     "output_type": "stream",
     "text": [
      "Training accuracy: 1.0\n",
      "Test accuracy: 0.763888888889\n"
     ]
    }
   ],
   "source": [
    "model = xgboost.XGBClassifier(learning_rate =0.1,\n",
    " n_estimators=3000,\n",
    " max_depth=7,\n",
    " min_child_weight=1,\n",
    " gamma=0.2,\n",
    " subsample=0.8,\n",
    " colsample_bytree=0.8,\n",
    " reg_alpha=0.01,\n",
    " objective= 'multi:softmax',\n",
    " nthread=8,\n",
    " scale_pos_weight=1,\n",
    " seed=27)\n",
    "\n",
    "model.fit(np.array(X_train), np.array(y_train))\n",
    "\n",
    "print 'Training accuracy:', model.score(np.array(X_train), np.array(y_train))\n",
    "print 'Test accuracy:', model.score(np.array(X_test), np.array(y_test))"
   ]
  },
  {
   "cell_type": "code",
   "execution_count": 21,
   "metadata": {
    "collapsed": false
   },
   "outputs": [
    {
     "name": "stdout",
     "output_type": "stream",
     "text": [
      "Training accuracy: 1.0\n",
      "Test accuracy: 0.763888888889\n"
     ]
    }
   ],
   "source": [
    "model = xgboost.XGBClassifier(learning_rate =0.1,\n",
    " n_estimators=3000,\n",
    " max_depth=7,\n",
    " min_child_weight=1,\n",
    " gamma=0.2,\n",
    " subsample=0.8,\n",
    " colsample_bytree=0.8,\n",
    " reg_alpha=0,\n",
    " objective= 'multi:softmax',\n",
    " nthread=8,\n",
    " scale_pos_weight=1,\n",
    " seed=27)\n",
    "\n",
    "model.fit(np.array(X_train), np.array(y_train))\n",
    "\n",
    "print 'Training accuracy:', model.score(np.array(X_train), np.array(y_train))\n",
    "print 'Test accuracy:', model.score(np.array(X_test), np.array(y_test))"
   ]
  },
  {
   "cell_type": "markdown",
   "metadata": {},
   "source": [
    "Okay, it seems like our best set of parameters are doing pretty well. Let's see how much accuracy we lose by reducing our estimators."
   ]
  },
  {
   "cell_type": "code",
   "execution_count": 22,
   "metadata": {
    "collapsed": false
   },
   "outputs": [
    {
     "name": "stdout",
     "output_type": "stream",
     "text": [
      "Training accuracy: 1.0\n",
      "Test accuracy: 0.722222222222\n"
     ]
    }
   ],
   "source": [
    "model = xgboost.XGBClassifier(learning_rate =0.1,\n",
    " n_estimators=1000,\n",
    " max_depth=7,\n",
    " min_child_weight=1,\n",
    " gamma=0.2,\n",
    " subsample=0.5,\n",
    " colsample_bytree=0.8,\n",
    " reg_alpha=0.005,\n",
    " objective= 'multi:softmax',\n",
    " nthread=8,\n",
    " scale_pos_weight=1,\n",
    " seed=27)\n",
    "\n",
    "model.fit(np.array(X_train), np.array(y_train))\n",
    "\n",
    "print 'Training accuracy:', model.score(np.array(X_train), np.array(y_train))\n",
    "print 'Test accuracy:', model.score(np.array(X_test), np.array(y_test))"
   ]
  },
  {
   "cell_type": "markdown",
   "metadata": {},
   "source": [
    "Quite a lot. Time to validate a 70-30 split on our full dataset using our best parameters to get an idea of how this ensemble algorithm will perform."
   ]
  },
  {
   "cell_type": "code",
   "execution_count": 26,
   "metadata": {
    "collapsed": true
   },
   "outputs": [],
   "source": [
    "fullset = extracted_features.sample(frac=1).reset_index(drop=True)\n",
    "X = fullset.drop(['Label'], 1)\n",
    "y = fullset['Label']\n",
    "X_train_full, X_test_full, y_train_full, y_test_full = train_test_split(X, y, test_size=0.3, random_state=42)"
   ]
  },
  {
   "cell_type": "code",
   "execution_count": 25,
   "metadata": {
    "collapsed": false
   },
   "outputs": [
    {
     "name": "stdout",
     "output_type": "stream",
     "text": [
      "Training accuracy: 1.0\n",
      "Test accuracy: 0.840100111235\n"
     ]
    }
   ],
   "source": [
    "model = xgboost.XGBClassifier(learning_rate =0.05,\n",
    " n_estimators=3000,\n",
    " max_depth=4,\n",
    " min_child_weight=1,\n",
    " gamma=0.1,\n",
    " subsample=0.5,\n",
    " colsample_bytree=0.8,\n",
    " reg_alpha=0.005,\n",
    " objective= 'multi:softmax',\n",
    " nthread=8,\n",
    " scale_pos_weight=1,\n",
    " seed=27)\n",
    "\n",
    "model.fit(np.array(X_train_full), np.array(y_train_full))\n",
    "\n",
    "print 'Training accuracy:', model.score(np.array(X_train_full), np.array(y_train_full))\n",
    "print 'Test accuracy:', model.score(np.array(X_test_full), np.array(y_test_full))"
   ]
  },
  {
   "cell_type": "markdown",
   "metadata": {},
   "source": [
    "Doing some early stopping analysis and parameter fine-tuning for overfitting prevention on the gradient boost."
   ]
  },
  {
   "cell_type": "code",
   "execution_count": 46,
   "metadata": {
    "collapsed": false
   },
   "outputs": [
    {
     "name": "stdout",
     "output_type": "stream",
     "text": [
      "[0]\tvalidation_0-merror:0.262336\tvalidation_0-mlogloss:1.64032\tvalidation_1-merror:0.296162\tvalidation_1-mlogloss:1.6503\n",
      "Multiple eval metrics have been passed: 'validation_1-mlogloss' will be used for early stopping.\n",
      "\n",
      "Will train until validation_1-mlogloss hasn't improved in 20 rounds.\n",
      "[1]\tvalidation_0-merror:0.226103\tvalidation_0-mlogloss:1.51914\tvalidation_1-merror:0.265295\tvalidation_1-mlogloss:1.53864\n",
      "[2]\tvalidation_0-merror:0.212515\tvalidation_0-mlogloss:1.41889\tvalidation_1-merror:0.259455\tvalidation_1-mlogloss:1.44504\n",
      "[3]\tvalidation_0-merror:0.198927\tvalidation_0-mlogloss:1.32935\tvalidation_1-merror:0.246941\tvalidation_1-mlogloss:1.36246\n",
      "[4]\tvalidation_0-merror:0.195709\tvalidation_0-mlogloss:1.25277\tvalidation_1-merror:0.238598\tvalidation_1-mlogloss:1.29217\n",
      "[5]\tvalidation_0-merror:0.191538\tvalidation_0-mlogloss:1.18602\tvalidation_1-merror:0.234983\tvalidation_1-mlogloss:1.23032\n",
      "[6]\tvalidation_0-merror:0.188319\tvalidation_0-mlogloss:1.12559\tvalidation_1-merror:0.229978\tvalidation_1-mlogloss:1.17473\n",
      "[7]\tvalidation_0-merror:0.183194\tvalidation_0-mlogloss:1.07059\tvalidation_1-merror:0.228865\tvalidation_1-mlogloss:1.12388\n",
      "[8]\tvalidation_0-merror:0.17795\tvalidation_0-mlogloss:1.02099\tvalidation_1-merror:0.221357\tvalidation_1-mlogloss:1.07894\n",
      "[9]\tvalidation_0-merror:0.174255\tvalidation_0-mlogloss:0.97666\tvalidation_1-merror:0.21802\tvalidation_1-mlogloss:1.0387\n",
      "[10]\tvalidation_0-merror:0.171275\tvalidation_0-mlogloss:0.935017\tvalidation_1-merror:0.216073\tvalidation_1-mlogloss:1.0015\n",
      "[11]\tvalidation_0-merror:0.169726\tvalidation_0-mlogloss:0.898076\tvalidation_1-merror:0.21218\tvalidation_1-mlogloss:0.967552\n",
      "[12]\tvalidation_0-merror:0.166865\tvalidation_0-mlogloss:0.86385\tvalidation_1-merror:0.211902\tvalidation_1-mlogloss:0.936703\n",
      "[13]\tvalidation_0-merror:0.164243\tvalidation_0-mlogloss:0.831376\tvalidation_1-merror:0.211902\tvalidation_1-mlogloss:0.907917\n",
      "[14]\tvalidation_0-merror:0.16031\tvalidation_0-mlogloss:0.802329\tvalidation_1-merror:0.211068\tvalidation_1-mlogloss:0.882322\n",
      "[15]\tvalidation_0-merror:0.159952\tvalidation_0-mlogloss:0.775768\tvalidation_1-merror:0.211068\tvalidation_1-mlogloss:0.859015\n",
      "[16]\tvalidation_0-merror:0.157807\tvalidation_0-mlogloss:0.751045\tvalidation_1-merror:0.209121\tvalidation_1-mlogloss:0.836579\n",
      "[17]\tvalidation_0-merror:0.156019\tvalidation_0-mlogloss:0.727935\tvalidation_1-merror:0.207175\tvalidation_1-mlogloss:0.817016\n",
      "[18]\tvalidation_0-merror:0.15435\tvalidation_0-mlogloss:0.706762\tvalidation_1-merror:0.205228\tvalidation_1-mlogloss:0.798521\n",
      "[19]\tvalidation_0-merror:0.153874\tvalidation_0-mlogloss:0.68742\tvalidation_1-merror:0.205228\tvalidation_1-mlogloss:0.781955\n",
      "[20]\tvalidation_0-merror:0.152682\tvalidation_0-mlogloss:0.669121\tvalidation_1-merror:0.203281\tvalidation_1-mlogloss:0.766277\n",
      "[21]\tvalidation_0-merror:0.149702\tvalidation_0-mlogloss:0.651946\tvalidation_1-merror:0.203281\tvalidation_1-mlogloss:0.75184\n",
      "[22]\tvalidation_0-merror:0.148629\tvalidation_0-mlogloss:0.634823\tvalidation_1-merror:0.202725\tvalidation_1-mlogloss:0.737669\n",
      "[23]\tvalidation_0-merror:0.148153\tvalidation_0-mlogloss:0.619837\tvalidation_1-merror:0.200779\tvalidation_1-mlogloss:0.725391\n",
      "[24]\tvalidation_0-merror:0.146246\tvalidation_0-mlogloss:0.605277\tvalidation_1-merror:0.198832\tvalidation_1-mlogloss:0.71346\n",
      "[25]\tvalidation_0-merror:0.144815\tvalidation_0-mlogloss:0.591444\tvalidation_1-merror:0.199666\tvalidation_1-mlogloss:0.702666\n",
      "[26]\tvalidation_0-merror:0.143743\tvalidation_0-mlogloss:0.578123\tvalidation_1-merror:0.198832\tvalidation_1-mlogloss:0.691598\n",
      "[27]\tvalidation_0-merror:0.13969\tvalidation_0-mlogloss:0.564855\tvalidation_1-merror:0.196329\tvalidation_1-mlogloss:0.680895\n",
      "[28]\tvalidation_0-merror:0.136591\tvalidation_0-mlogloss:0.552855\tvalidation_1-merror:0.194939\tvalidation_1-mlogloss:0.671461\n",
      "[29]\tvalidation_0-merror:0.136591\tvalidation_0-mlogloss:0.540712\tvalidation_1-merror:0.192992\tvalidation_1-mlogloss:0.662426\n",
      "[30]\tvalidation_0-merror:0.134446\tvalidation_0-mlogloss:0.529425\tvalidation_1-merror:0.191324\tvalidation_1-mlogloss:0.653954\n",
      "[31]\tvalidation_0-merror:0.132181\tvalidation_0-mlogloss:0.518954\tvalidation_1-merror:0.190768\tvalidation_1-mlogloss:0.646232\n",
      "[32]\tvalidation_0-merror:0.130751\tvalidation_0-mlogloss:0.509484\tvalidation_1-merror:0.188821\tvalidation_1-mlogloss:0.638384\n",
      "[33]\tvalidation_0-merror:0.128725\tvalidation_0-mlogloss:0.499356\tvalidation_1-merror:0.187152\tvalidation_1-mlogloss:0.631488\n",
      "[34]\tvalidation_0-merror:0.128129\tvalidation_0-mlogloss:0.490763\tvalidation_1-merror:0.18604\tvalidation_1-mlogloss:0.625527\n",
      "[35]\tvalidation_0-merror:0.126222\tvalidation_0-mlogloss:0.482125\tvalidation_1-merror:0.185762\tvalidation_1-mlogloss:0.618701\n",
      "[36]\tvalidation_0-merror:0.125268\tvalidation_0-mlogloss:0.474485\tvalidation_1-merror:0.185206\tvalidation_1-mlogloss:0.613741\n",
      "[37]\tvalidation_0-merror:0.122884\tvalidation_0-mlogloss:0.465819\tvalidation_1-merror:0.184372\tvalidation_1-mlogloss:0.6073\n",
      "[38]\tvalidation_0-merror:0.121573\tvalidation_0-mlogloss:0.458278\tvalidation_1-merror:0.18465\tvalidation_1-mlogloss:0.602007\n",
      "[39]\tvalidation_0-merror:0.12062\tvalidation_0-mlogloss:0.450478\tvalidation_1-merror:0.182703\tvalidation_1-mlogloss:0.5966\n",
      "[40]\tvalidation_0-merror:0.118355\tvalidation_0-mlogloss:0.443059\tvalidation_1-merror:0.181591\tvalidation_1-mlogloss:0.59157\n",
      "[41]\tvalidation_0-merror:0.117044\tvalidation_0-mlogloss:0.436367\tvalidation_1-merror:0.181313\tvalidation_1-mlogloss:0.587511\n",
      "[42]\tvalidation_0-merror:0.113468\tvalidation_0-mlogloss:0.428871\tvalidation_1-merror:0.179644\tvalidation_1-mlogloss:0.582761\n",
      "[43]\tvalidation_0-merror:0.112634\tvalidation_0-mlogloss:0.422346\tvalidation_1-merror:0.179366\tvalidation_1-mlogloss:0.578769\n",
      "[44]\tvalidation_0-merror:0.1118\tvalidation_0-mlogloss:0.415706\tvalidation_1-merror:0.179644\tvalidation_1-mlogloss:0.574238\n",
      "[45]\tvalidation_0-merror:0.110369\tvalidation_0-mlogloss:0.409706\tvalidation_1-merror:0.1802\tvalidation_1-mlogloss:0.57053\n",
      "[46]\tvalidation_0-merror:0.109774\tvalidation_0-mlogloss:0.403486\tvalidation_1-merror:0.179644\tvalidation_1-mlogloss:0.567275\n",
      "[47]\tvalidation_0-merror:0.107151\tvalidation_0-mlogloss:0.397474\tvalidation_1-merror:0.17881\tvalidation_1-mlogloss:0.56401\n",
      "[48]\tvalidation_0-merror:0.106198\tvalidation_0-mlogloss:0.391905\tvalidation_1-merror:0.17881\tvalidation_1-mlogloss:0.560516\n",
      "[49]\tvalidation_0-merror:0.105125\tvalidation_0-mlogloss:0.386881\tvalidation_1-merror:0.178254\tvalidation_1-mlogloss:0.557831\n",
      "[50]\tvalidation_0-merror:0.104291\tvalidation_0-mlogloss:0.382222\tvalidation_1-merror:0.178532\tvalidation_1-mlogloss:0.555065\n",
      "[51]\tvalidation_0-merror:0.10441\tvalidation_0-mlogloss:0.377517\tvalidation_1-merror:0.178532\tvalidation_1-mlogloss:0.552295\n",
      "[52]\tvalidation_0-merror:0.103814\tvalidation_0-mlogloss:0.372141\tvalidation_1-merror:0.177976\tvalidation_1-mlogloss:0.549426\n",
      "[53]\tvalidation_0-merror:0.102145\tvalidation_0-mlogloss:0.367475\tvalidation_1-merror:0.176863\tvalidation_1-mlogloss:0.546957\n",
      "[54]\tvalidation_0-merror:0.099881\tvalidation_0-mlogloss:0.362789\tvalidation_1-merror:0.176307\tvalidation_1-mlogloss:0.544553\n",
      "[55]\tvalidation_0-merror:0.098689\tvalidation_0-mlogloss:0.357567\tvalidation_1-merror:0.175195\tvalidation_1-mlogloss:0.542171\n",
      "[56]\tvalidation_0-merror:0.097378\tvalidation_0-mlogloss:0.353102\tvalidation_1-merror:0.176307\tvalidation_1-mlogloss:0.539935\n",
      "[57]\tvalidation_0-merror:0.096305\tvalidation_0-mlogloss:0.348719\tvalidation_1-merror:0.175473\tvalidation_1-mlogloss:0.537641\n",
      "[58]\tvalidation_0-merror:0.095471\tvalidation_0-mlogloss:0.344279\tvalidation_1-merror:0.17436\tvalidation_1-mlogloss:0.535564\n",
      "[59]\tvalidation_0-merror:0.093921\tvalidation_0-mlogloss:0.340637\tvalidation_1-merror:0.173248\tvalidation_1-mlogloss:0.533223\n",
      "[60]\tvalidation_0-merror:0.092729\tvalidation_0-mlogloss:0.336492\tvalidation_1-merror:0.173248\tvalidation_1-mlogloss:0.531525\n",
      "[61]\tvalidation_0-merror:0.090584\tvalidation_0-mlogloss:0.332499\tvalidation_1-merror:0.172414\tvalidation_1-mlogloss:0.530016\n",
      "[62]\tvalidation_0-merror:0.089869\tvalidation_0-mlogloss:0.328499\tvalidation_1-merror:0.171858\tvalidation_1-mlogloss:0.528211\n",
      "[63]\tvalidation_0-merror:0.088439\tvalidation_0-mlogloss:0.325186\tvalidation_1-merror:0.171858\tvalidation_1-mlogloss:0.526639\n",
      "[64]\tvalidation_0-merror:0.087247\tvalidation_0-mlogloss:0.321287\tvalidation_1-merror:0.173248\tvalidation_1-mlogloss:0.52485\n",
      "[65]\tvalidation_0-merror:0.086293\tvalidation_0-mlogloss:0.317536\tvalidation_1-merror:0.171858\tvalidation_1-mlogloss:0.523324\n",
      "[66]\tvalidation_0-merror:0.085221\tvalidation_0-mlogloss:0.314101\tvalidation_1-merror:0.17158\tvalidation_1-mlogloss:0.521859\n",
      "[67]\tvalidation_0-merror:0.083313\tvalidation_0-mlogloss:0.310936\tvalidation_1-merror:0.171858\tvalidation_1-mlogloss:0.520476\n",
      "[68]\tvalidation_0-merror:0.082718\tvalidation_0-mlogloss:0.307738\tvalidation_1-merror:0.170467\tvalidation_1-mlogloss:0.51925\n",
      "[69]\tvalidation_0-merror:0.08236\tvalidation_0-mlogloss:0.303873\tvalidation_1-merror:0.169633\tvalidation_1-mlogloss:0.518426\n",
      "[70]\tvalidation_0-merror:0.081049\tvalidation_0-mlogloss:0.300537\tvalidation_1-merror:0.170745\tvalidation_1-mlogloss:0.518347\n",
      "[71]\tvalidation_0-merror:0.079976\tvalidation_0-mlogloss:0.296889\tvalidation_1-merror:0.170467\tvalidation_1-mlogloss:0.517273\n",
      "[72]\tvalidation_0-merror:0.079023\tvalidation_0-mlogloss:0.293874\tvalidation_1-merror:0.169633\tvalidation_1-mlogloss:0.516447\n",
      "[73]\tvalidation_0-merror:0.078546\tvalidation_0-mlogloss:0.290425\tvalidation_1-merror:0.168521\tvalidation_1-mlogloss:0.515321\n",
      "[74]\tvalidation_0-merror:0.07795\tvalidation_0-mlogloss:0.287515\tvalidation_1-merror:0.167964\tvalidation_1-mlogloss:0.514388\n",
      "[75]\tvalidation_0-merror:0.075685\tvalidation_0-mlogloss:0.284315\tvalidation_1-merror:0.166852\tvalidation_1-mlogloss:0.513204\n",
      "[76]\tvalidation_0-merror:0.075566\tvalidation_0-mlogloss:0.280859\tvalidation_1-merror:0.167964\tvalidation_1-mlogloss:0.511779\n",
      "[77]\tvalidation_0-merror:0.074017\tvalidation_0-mlogloss:0.278425\tvalidation_1-merror:0.167964\tvalidation_1-mlogloss:0.511171\n",
      "[78]\tvalidation_0-merror:0.07211\tvalidation_0-mlogloss:0.275685\tvalidation_1-merror:0.168242\tvalidation_1-mlogloss:0.510411\n",
      "[79]\tvalidation_0-merror:0.071871\tvalidation_0-mlogloss:0.273199\tvalidation_1-merror:0.166852\tvalidation_1-mlogloss:0.509644\n",
      "[80]\tvalidation_0-merror:0.07056\tvalidation_0-mlogloss:0.270627\tvalidation_1-merror:0.16574\tvalidation_1-mlogloss:0.508692\n",
      "[81]\tvalidation_0-merror:0.068892\tvalidation_0-mlogloss:0.267952\tvalidation_1-merror:0.165184\tvalidation_1-mlogloss:0.507863\n",
      "[82]\tvalidation_0-merror:0.068534\tvalidation_0-mlogloss:0.265214\tvalidation_1-merror:0.165462\tvalidation_1-mlogloss:0.507007\n",
      "[83]\tvalidation_0-merror:0.0677\tvalidation_0-mlogloss:0.262515\tvalidation_1-merror:0.164627\tvalidation_1-mlogloss:0.506032\n",
      "[84]\tvalidation_0-merror:0.066508\tvalidation_0-mlogloss:0.259811\tvalidation_1-merror:0.164071\tvalidation_1-mlogloss:0.505021\n",
      "[85]\tvalidation_0-merror:0.065554\tvalidation_0-mlogloss:0.257469\tvalidation_1-merror:0.164349\tvalidation_1-mlogloss:0.504807\n",
      "[86]\tvalidation_0-merror:0.064243\tvalidation_0-mlogloss:0.254879\tvalidation_1-merror:0.164905\tvalidation_1-mlogloss:0.503748\n",
      "[87]\tvalidation_0-merror:0.06317\tvalidation_0-mlogloss:0.252346\tvalidation_1-merror:0.164905\tvalidation_1-mlogloss:0.50315\n",
      "[88]\tvalidation_0-merror:0.062098\tvalidation_0-mlogloss:0.249526\tvalidation_1-merror:0.162959\tvalidation_1-mlogloss:0.502278\n",
      "[89]\tvalidation_0-merror:0.061383\tvalidation_0-mlogloss:0.246952\tvalidation_1-merror:0.163793\tvalidation_1-mlogloss:0.501789\n",
      "[90]\tvalidation_0-merror:0.060906\tvalidation_0-mlogloss:0.244662\tvalidation_1-merror:0.162959\tvalidation_1-mlogloss:0.501478\n",
      "[91]\tvalidation_0-merror:0.058164\tvalidation_0-mlogloss:0.242292\tvalidation_1-merror:0.164071\tvalidation_1-mlogloss:0.501176\n",
      "[92]\tvalidation_0-merror:0.057926\tvalidation_0-mlogloss:0.240111\tvalidation_1-merror:0.164627\tvalidation_1-mlogloss:0.500403\n",
      "[93]\tvalidation_0-merror:0.057092\tvalidation_0-mlogloss:0.23764\tvalidation_1-merror:0.163515\tvalidation_1-mlogloss:0.49951\n",
      "[94]\tvalidation_0-merror:0.055781\tvalidation_0-mlogloss:0.235002\tvalidation_1-merror:0.161568\tvalidation_1-mlogloss:0.498898\n",
      "[95]\tvalidation_0-merror:0.055542\tvalidation_0-mlogloss:0.232471\tvalidation_1-merror:0.161012\tvalidation_1-mlogloss:0.498127\n",
      "[96]\tvalidation_0-merror:0.055185\tvalidation_0-mlogloss:0.230444\tvalidation_1-merror:0.162125\tvalidation_1-mlogloss:0.497872\n",
      "[97]\tvalidation_0-merror:0.053635\tvalidation_0-mlogloss:0.228151\tvalidation_1-merror:0.162681\tvalidation_1-mlogloss:0.497519\n",
      "[98]\tvalidation_0-merror:0.05292\tvalidation_0-mlogloss:0.226514\tvalidation_1-merror:0.162125\tvalidation_1-mlogloss:0.49718\n",
      "[99]\tvalidation_0-merror:0.051967\tvalidation_0-mlogloss:0.224193\tvalidation_1-merror:0.161846\tvalidation_1-mlogloss:0.496363\n",
      "[100]\tvalidation_0-merror:0.050656\tvalidation_0-mlogloss:0.222097\tvalidation_1-merror:0.163237\tvalidation_1-mlogloss:0.496057\n",
      "[101]\tvalidation_0-merror:0.049702\tvalidation_0-mlogloss:0.220119\tvalidation_1-merror:0.162959\tvalidation_1-mlogloss:0.495782\n",
      "[102]\tvalidation_0-merror:0.048749\tvalidation_0-mlogloss:0.218038\tvalidation_1-merror:0.161846\tvalidation_1-mlogloss:0.495622\n",
      "[103]\tvalidation_0-merror:0.047557\tvalidation_0-mlogloss:0.215822\tvalidation_1-merror:0.162403\tvalidation_1-mlogloss:0.494994\n",
      "[104]\tvalidation_0-merror:0.046365\tvalidation_0-mlogloss:0.21374\tvalidation_1-merror:0.161846\tvalidation_1-mlogloss:0.494792\n",
      "[105]\tvalidation_0-merror:0.04553\tvalidation_0-mlogloss:0.211786\tvalidation_1-merror:0.161846\tvalidation_1-mlogloss:0.494944\n",
      "[106]\tvalidation_0-merror:0.044815\tvalidation_0-mlogloss:0.209809\tvalidation_1-merror:0.160734\tvalidation_1-mlogloss:0.494436\n",
      "[107]\tvalidation_0-merror:0.043623\tvalidation_0-mlogloss:0.207803\tvalidation_1-merror:0.160456\tvalidation_1-mlogloss:0.494066\n",
      "[108]\tvalidation_0-merror:0.042193\tvalidation_0-mlogloss:0.205691\tvalidation_1-merror:0.162125\tvalidation_1-mlogloss:0.493051\n",
      "[109]\tvalidation_0-merror:0.041478\tvalidation_0-mlogloss:0.203827\tvalidation_1-merror:0.162125\tvalidation_1-mlogloss:0.492166\n",
      "[110]\tvalidation_0-merror:0.04112\tvalidation_0-mlogloss:0.201873\tvalidation_1-merror:0.162681\tvalidation_1-mlogloss:0.491766\n",
      "[111]\tvalidation_0-merror:0.040286\tvalidation_0-mlogloss:0.200236\tvalidation_1-merror:0.162681\tvalidation_1-mlogloss:0.491359\n",
      "[112]\tvalidation_0-merror:0.039928\tvalidation_0-mlogloss:0.198611\tvalidation_1-merror:0.162959\tvalidation_1-mlogloss:0.491132\n",
      "[113]\tvalidation_0-merror:0.039213\tvalidation_0-mlogloss:0.196739\tvalidation_1-merror:0.162403\tvalidation_1-mlogloss:0.490822\n",
      "[114]\tvalidation_0-merror:0.038021\tvalidation_0-mlogloss:0.19503\tvalidation_1-merror:0.161568\tvalidation_1-mlogloss:0.49018\n",
      "[115]\tvalidation_0-merror:0.037664\tvalidation_0-mlogloss:0.19325\tvalidation_1-merror:0.161012\tvalidation_1-mlogloss:0.490293\n",
      "[116]\tvalidation_0-merror:0.036949\tvalidation_0-mlogloss:0.191371\tvalidation_1-merror:0.162959\tvalidation_1-mlogloss:0.489781\n",
      "[117]\tvalidation_0-merror:0.03683\tvalidation_0-mlogloss:0.189562\tvalidation_1-merror:0.16129\tvalidation_1-mlogloss:0.489819\n",
      "[118]\tvalidation_0-merror:0.035042\tvalidation_0-mlogloss:0.187849\tvalidation_1-merror:0.161568\tvalidation_1-mlogloss:0.489838\n",
      "[119]\tvalidation_0-merror:0.035042\tvalidation_0-mlogloss:0.186394\tvalidation_1-merror:0.1599\tvalidation_1-mlogloss:0.489388\n",
      "[120]\tvalidation_0-merror:0.034446\tvalidation_0-mlogloss:0.184569\tvalidation_1-merror:0.160178\tvalidation_1-mlogloss:0.489383\n",
      "[121]\tvalidation_0-merror:0.032896\tvalidation_0-mlogloss:0.182919\tvalidation_1-merror:0.160178\tvalidation_1-mlogloss:0.489359\n",
      "[122]\tvalidation_0-merror:0.032062\tvalidation_0-mlogloss:0.181436\tvalidation_1-merror:0.159344\tvalidation_1-mlogloss:0.488607\n",
      "[123]\tvalidation_0-merror:0.032181\tvalidation_0-mlogloss:0.180015\tvalidation_1-merror:0.158509\tvalidation_1-mlogloss:0.488276\n",
      "[124]\tvalidation_0-merror:0.030513\tvalidation_0-mlogloss:0.178104\tvalidation_1-merror:0.159344\tvalidation_1-mlogloss:0.48779\n",
      "[125]\tvalidation_0-merror:0.029678\tvalidation_0-mlogloss:0.176415\tvalidation_1-merror:0.157953\tvalidation_1-mlogloss:0.487339\n",
      "[126]\tvalidation_0-merror:0.028248\tvalidation_0-mlogloss:0.174671\tvalidation_1-merror:0.157953\tvalidation_1-mlogloss:0.487228\n",
      "[127]\tvalidation_0-merror:0.027533\tvalidation_0-mlogloss:0.173122\tvalidation_1-merror:0.158788\tvalidation_1-mlogloss:0.486908\n",
      "[128]\tvalidation_0-merror:0.026698\tvalidation_0-mlogloss:0.171203\tvalidation_1-merror:0.158509\tvalidation_1-mlogloss:0.486787\n",
      "[129]\tvalidation_0-merror:0.025983\tvalidation_0-mlogloss:0.169765\tvalidation_1-merror:0.159344\tvalidation_1-mlogloss:0.486204\n",
      "[130]\tvalidation_0-merror:0.024791\tvalidation_0-mlogloss:0.168153\tvalidation_1-merror:0.1599\tvalidation_1-mlogloss:0.486007\n",
      "[131]\tvalidation_0-merror:0.024672\tvalidation_0-mlogloss:0.166491\tvalidation_1-merror:0.160456\tvalidation_1-mlogloss:0.485297\n",
      "[132]\tvalidation_0-merror:0.023361\tvalidation_0-mlogloss:0.164905\tvalidation_1-merror:0.160456\tvalidation_1-mlogloss:0.484916\n",
      "[133]\tvalidation_0-merror:0.023123\tvalidation_0-mlogloss:0.163308\tvalidation_1-merror:0.159344\tvalidation_1-mlogloss:0.484673\n",
      "[134]\tvalidation_0-merror:0.022288\tvalidation_0-mlogloss:0.161979\tvalidation_1-merror:0.159066\tvalidation_1-mlogloss:0.484996\n",
      "[135]\tvalidation_0-merror:0.021216\tvalidation_0-mlogloss:0.160512\tvalidation_1-merror:0.159344\tvalidation_1-mlogloss:0.485378\n",
      "[136]\tvalidation_0-merror:0.020501\tvalidation_0-mlogloss:0.159081\tvalidation_1-merror:0.158788\tvalidation_1-mlogloss:0.485141\n",
      "[137]\tvalidation_0-merror:0.020024\tvalidation_0-mlogloss:0.157426\tvalidation_1-merror:0.158788\tvalidation_1-mlogloss:0.485248\n",
      "[138]\tvalidation_0-merror:0.01907\tvalidation_0-mlogloss:0.155809\tvalidation_1-merror:0.158788\tvalidation_1-mlogloss:0.485194\n",
      "[139]\tvalidation_0-merror:0.01919\tvalidation_0-mlogloss:0.154257\tvalidation_1-merror:0.159066\tvalidation_1-mlogloss:0.485031\n",
      "[140]\tvalidation_0-merror:0.01907\tvalidation_0-mlogloss:0.152959\tvalidation_1-merror:0.159622\tvalidation_1-mlogloss:0.484519\n",
      "[141]\tvalidation_0-merror:0.018236\tvalidation_0-mlogloss:0.151476\tvalidation_1-merror:0.159344\tvalidation_1-mlogloss:0.484113\n",
      "[142]\tvalidation_0-merror:0.017521\tvalidation_0-mlogloss:0.150127\tvalidation_1-merror:0.158509\tvalidation_1-mlogloss:0.484011\n",
      "[143]\tvalidation_0-merror:0.016925\tvalidation_0-mlogloss:0.148823\tvalidation_1-merror:0.159344\tvalidation_1-mlogloss:0.4838\n",
      "[144]\tvalidation_0-merror:0.016567\tvalidation_0-mlogloss:0.147581\tvalidation_1-merror:0.159066\tvalidation_1-mlogloss:0.483832\n",
      "[145]\tvalidation_0-merror:0.016448\tvalidation_0-mlogloss:0.14645\tvalidation_1-merror:0.159344\tvalidation_1-mlogloss:0.483817\n",
      "[146]\tvalidation_0-merror:0.016091\tvalidation_0-mlogloss:0.145161\tvalidation_1-merror:0.159344\tvalidation_1-mlogloss:0.483881\n",
      "[147]\tvalidation_0-merror:0.015733\tvalidation_0-mlogloss:0.143851\tvalidation_1-merror:0.159344\tvalidation_1-mlogloss:0.483928\n",
      "[148]\tvalidation_0-merror:0.015495\tvalidation_0-mlogloss:0.142353\tvalidation_1-merror:0.159344\tvalidation_1-mlogloss:0.484002\n",
      "[149]\tvalidation_0-merror:0.01466\tvalidation_0-mlogloss:0.141109\tvalidation_1-merror:0.158788\tvalidation_1-mlogloss:0.483776\n",
      "[150]\tvalidation_0-merror:0.014064\tvalidation_0-mlogloss:0.139999\tvalidation_1-merror:0.157953\tvalidation_1-mlogloss:0.48374\n",
      "[151]\tvalidation_0-merror:0.013588\tvalidation_0-mlogloss:0.138656\tvalidation_1-merror:0.158788\tvalidation_1-mlogloss:0.483658\n",
      "[152]\tvalidation_0-merror:0.013468\tvalidation_0-mlogloss:0.13726\tvalidation_1-merror:0.158788\tvalidation_1-mlogloss:0.483571\n",
      "[153]\tvalidation_0-merror:0.012872\tvalidation_0-mlogloss:0.136036\tvalidation_1-merror:0.159622\tvalidation_1-mlogloss:0.483596\n",
      "[154]\tvalidation_0-merror:0.013111\tvalidation_0-mlogloss:0.134816\tvalidation_1-merror:0.157953\tvalidation_1-mlogloss:0.483547\n",
      "[155]\tvalidation_0-merror:0.012634\tvalidation_0-mlogloss:0.133585\tvalidation_1-merror:0.157675\tvalidation_1-mlogloss:0.483264\n",
      "[156]\tvalidation_0-merror:0.012753\tvalidation_0-mlogloss:0.13223\tvalidation_1-merror:0.157675\tvalidation_1-mlogloss:0.482907\n",
      "[157]\tvalidation_0-merror:0.0118\tvalidation_0-mlogloss:0.13124\tvalidation_1-merror:0.157953\tvalidation_1-mlogloss:0.482661\n",
      "[158]\tvalidation_0-merror:0.011681\tvalidation_0-mlogloss:0.13022\tvalidation_1-merror:0.158231\tvalidation_1-mlogloss:0.482646\n",
      "[159]\tvalidation_0-merror:0.011204\tvalidation_0-mlogloss:0.128915\tvalidation_1-merror:0.158788\tvalidation_1-mlogloss:0.482492\n",
      "[160]\tvalidation_0-merror:0.010727\tvalidation_0-mlogloss:0.127756\tvalidation_1-merror:0.158509\tvalidation_1-mlogloss:0.482419\n",
      "[161]\tvalidation_0-merror:0.01025\tvalidation_0-mlogloss:0.126617\tvalidation_1-merror:0.158509\tvalidation_1-mlogloss:0.481998\n",
      "[162]\tvalidation_0-merror:0.009774\tvalidation_0-mlogloss:0.125546\tvalidation_1-merror:0.159066\tvalidation_1-mlogloss:0.48211\n",
      "[163]\tvalidation_0-merror:0.009416\tvalidation_0-mlogloss:0.124388\tvalidation_1-merror:0.159066\tvalidation_1-mlogloss:0.482226\n",
      "[164]\tvalidation_0-merror:0.009178\tvalidation_0-mlogloss:0.123452\tvalidation_1-merror:0.158509\tvalidation_1-mlogloss:0.48188\n",
      "[165]\tvalidation_0-merror:0.008939\tvalidation_0-mlogloss:0.12265\tvalidation_1-merror:0.159066\tvalidation_1-mlogloss:0.481725\n",
      "[166]\tvalidation_0-merror:0.008582\tvalidation_0-mlogloss:0.121689\tvalidation_1-merror:0.1599\tvalidation_1-mlogloss:0.481686\n",
      "[167]\tvalidation_0-merror:0.008224\tvalidation_0-mlogloss:0.120626\tvalidation_1-merror:0.160734\tvalidation_1-mlogloss:0.481821\n",
      "[168]\tvalidation_0-merror:0.008224\tvalidation_0-mlogloss:0.119516\tvalidation_1-merror:0.159344\tvalidation_1-mlogloss:0.481284\n",
      "[169]\tvalidation_0-merror:0.008343\tvalidation_0-mlogloss:0.118619\tvalidation_1-merror:0.159066\tvalidation_1-mlogloss:0.481674\n",
      "[170]\tvalidation_0-merror:0.007867\tvalidation_0-mlogloss:0.117661\tvalidation_1-merror:0.157397\tvalidation_1-mlogloss:0.481691\n",
      "[171]\tvalidation_0-merror:0.007867\tvalidation_0-mlogloss:0.116716\tvalidation_1-merror:0.157953\tvalidation_1-mlogloss:0.481501\n",
      "[172]\tvalidation_0-merror:0.007747\tvalidation_0-mlogloss:0.115778\tvalidation_1-merror:0.157675\tvalidation_1-mlogloss:0.481584\n",
      "[173]\tvalidation_0-merror:0.007271\tvalidation_0-mlogloss:0.114748\tvalidation_1-merror:0.158509\tvalidation_1-mlogloss:0.481709\n",
      "[174]\tvalidation_0-merror:0.007271\tvalidation_0-mlogloss:0.113709\tvalidation_1-merror:0.159066\tvalidation_1-mlogloss:0.481896\n",
      "[175]\tvalidation_0-merror:0.006794\tvalidation_0-mlogloss:0.112764\tvalidation_1-merror:0.159622\tvalidation_1-mlogloss:0.482032\n",
      "[176]\tvalidation_0-merror:0.007032\tvalidation_0-mlogloss:0.111971\tvalidation_1-merror:0.159344\tvalidation_1-mlogloss:0.482219\n",
      "[177]\tvalidation_0-merror:0.006913\tvalidation_0-mlogloss:0.111117\tvalidation_1-merror:0.158788\tvalidation_1-mlogloss:0.482475\n",
      "[178]\tvalidation_0-merror:0.006675\tvalidation_0-mlogloss:0.110101\tvalidation_1-merror:0.158509\tvalidation_1-mlogloss:0.48269\n",
      "[179]\tvalidation_0-merror:0.006555\tvalidation_0-mlogloss:0.108999\tvalidation_1-merror:0.158788\tvalidation_1-mlogloss:0.482874\n",
      "[180]\tvalidation_0-merror:0.006436\tvalidation_0-mlogloss:0.107938\tvalidation_1-merror:0.159344\tvalidation_1-mlogloss:0.482405\n",
      "[181]\tvalidation_0-merror:0.006436\tvalidation_0-mlogloss:0.107102\tvalidation_1-merror:0.158788\tvalidation_1-mlogloss:0.481959\n",
      "[182]\tvalidation_0-merror:0.006317\tvalidation_0-mlogloss:0.106245\tvalidation_1-merror:0.159066\tvalidation_1-mlogloss:0.481526\n",
      "[183]\tvalidation_0-merror:0.00584\tvalidation_0-mlogloss:0.105355\tvalidation_1-merror:0.158788\tvalidation_1-mlogloss:0.481524\n",
      "[184]\tvalidation_0-merror:0.00584\tvalidation_0-mlogloss:0.104524\tvalidation_1-merror:0.158788\tvalidation_1-mlogloss:0.481377\n",
      "[185]\tvalidation_0-merror:0.00584\tvalidation_0-mlogloss:0.103767\tvalidation_1-merror:0.157953\tvalidation_1-mlogloss:0.481334\n",
      "[186]\tvalidation_0-merror:0.005364\tvalidation_0-mlogloss:0.102848\tvalidation_1-merror:0.157119\tvalidation_1-mlogloss:0.481702\n",
      "[187]\tvalidation_0-merror:0.005364\tvalidation_0-mlogloss:0.10204\tvalidation_1-merror:0.157119\tvalidation_1-mlogloss:0.481161\n",
      "[188]\tvalidation_0-merror:0.005244\tvalidation_0-mlogloss:0.101105\tvalidation_1-merror:0.156285\tvalidation_1-mlogloss:0.481407\n",
      "[189]\tvalidation_0-merror:0.004887\tvalidation_0-mlogloss:0.100275\tvalidation_1-merror:0.157119\tvalidation_1-mlogloss:0.481364\n",
      "[190]\tvalidation_0-merror:0.004887\tvalidation_0-mlogloss:0.099391\tvalidation_1-merror:0.158788\tvalidation_1-mlogloss:0.481539\n",
      "[191]\tvalidation_0-merror:0.004529\tvalidation_0-mlogloss:0.098522\tvalidation_1-merror:0.158509\tvalidation_1-mlogloss:0.481409\n",
      "[192]\tvalidation_0-merror:0.00441\tvalidation_0-mlogloss:0.097698\tvalidation_1-merror:0.158231\tvalidation_1-mlogloss:0.481274\n",
      "[193]\tvalidation_0-merror:0.004529\tvalidation_0-mlogloss:0.096901\tvalidation_1-merror:0.157397\tvalidation_1-mlogloss:0.481279\n",
      "[194]\tvalidation_0-merror:0.004529\tvalidation_0-mlogloss:0.096087\tvalidation_1-merror:0.158231\tvalidation_1-mlogloss:0.481275\n",
      "[195]\tvalidation_0-merror:0.004529\tvalidation_0-mlogloss:0.095285\tvalidation_1-merror:0.158509\tvalidation_1-mlogloss:0.481438\n",
      "[196]\tvalidation_0-merror:0.004291\tvalidation_0-mlogloss:0.094388\tvalidation_1-merror:0.158788\tvalidation_1-mlogloss:0.481508\n",
      "[197]\tvalidation_0-merror:0.003814\tvalidation_0-mlogloss:0.093602\tvalidation_1-merror:0.159344\tvalidation_1-mlogloss:0.481806\n",
      "[198]\tvalidation_0-merror:0.003814\tvalidation_0-mlogloss:0.092842\tvalidation_1-merror:0.158231\tvalidation_1-mlogloss:0.481844\n",
      "[199]\tvalidation_0-merror:0.003456\tvalidation_0-mlogloss:0.092141\tvalidation_1-merror:0.158509\tvalidation_1-mlogloss:0.481885\n",
      "[200]\tvalidation_0-merror:0.003456\tvalidation_0-mlogloss:0.091339\tvalidation_1-merror:0.157953\tvalidation_1-mlogloss:0.481649\n",
      "[201]\tvalidation_0-merror:0.003337\tvalidation_0-mlogloss:0.090543\tvalidation_1-merror:0.157397\tvalidation_1-mlogloss:0.481296\n",
      "[202]\tvalidation_0-merror:0.003099\tvalidation_0-mlogloss:0.089741\tvalidation_1-merror:0.156285\tvalidation_1-mlogloss:0.481081\n",
      "[203]\tvalidation_0-merror:0.002861\tvalidation_0-mlogloss:0.089069\tvalidation_1-merror:0.156563\tvalidation_1-mlogloss:0.481294\n",
      "[204]\tvalidation_0-merror:0.00298\tvalidation_0-mlogloss:0.088228\tvalidation_1-merror:0.156841\tvalidation_1-mlogloss:0.481029\n",
      "[205]\tvalidation_0-merror:0.002741\tvalidation_0-mlogloss:0.087504\tvalidation_1-merror:0.157675\tvalidation_1-mlogloss:0.481163\n",
      "[206]\tvalidation_0-merror:0.002861\tvalidation_0-mlogloss:0.086736\tvalidation_1-merror:0.157119\tvalidation_1-mlogloss:0.48101\n",
      "[207]\tvalidation_0-merror:0.002384\tvalidation_0-mlogloss:0.085981\tvalidation_1-merror:0.156841\tvalidation_1-mlogloss:0.481253\n",
      "[208]\tvalidation_0-merror:0.002265\tvalidation_0-mlogloss:0.085187\tvalidation_1-merror:0.156007\tvalidation_1-mlogloss:0.481264\n",
      "[209]\tvalidation_0-merror:0.002265\tvalidation_0-mlogloss:0.084479\tvalidation_1-merror:0.156007\tvalidation_1-mlogloss:0.481279\n",
      "[210]\tvalidation_0-merror:0.002384\tvalidation_0-mlogloss:0.083848\tvalidation_1-merror:0.155729\tvalidation_1-mlogloss:0.481419\n",
      "[211]\tvalidation_0-merror:0.002384\tvalidation_0-mlogloss:0.083124\tvalidation_1-merror:0.155451\tvalidation_1-mlogloss:0.481297\n",
      "[212]\tvalidation_0-merror:0.002145\tvalidation_0-mlogloss:0.082362\tvalidation_1-merror:0.156007\tvalidation_1-mlogloss:0.481477\n",
      "[213]\tvalidation_0-merror:0.001907\tvalidation_0-mlogloss:0.081664\tvalidation_1-merror:0.156563\tvalidation_1-mlogloss:0.481326\n",
      "[214]\tvalidation_0-merror:0.001907\tvalidation_0-mlogloss:0.080914\tvalidation_1-merror:0.156563\tvalidation_1-mlogloss:0.481024\n",
      "[215]\tvalidation_0-merror:0.002026\tvalidation_0-mlogloss:0.080098\tvalidation_1-merror:0.156841\tvalidation_1-mlogloss:0.48129\n",
      "[216]\tvalidation_0-merror:0.001907\tvalidation_0-mlogloss:0.079499\tvalidation_1-merror:0.157675\tvalidation_1-mlogloss:0.481604\n",
      "[217]\tvalidation_0-merror:0.001788\tvalidation_0-mlogloss:0.078874\tvalidation_1-merror:0.156563\tvalidation_1-mlogloss:0.48166\n",
      "[218]\tvalidation_0-merror:0.001907\tvalidation_0-mlogloss:0.078242\tvalidation_1-merror:0.157675\tvalidation_1-mlogloss:0.481708\n",
      "[219]\tvalidation_0-merror:0.001669\tvalidation_0-mlogloss:0.077518\tvalidation_1-merror:0.158509\tvalidation_1-mlogloss:0.482097\n",
      "[220]\tvalidation_0-merror:0.001788\tvalidation_0-mlogloss:0.076917\tvalidation_1-merror:0.158231\tvalidation_1-mlogloss:0.482581\n",
      "[221]\tvalidation_0-merror:0.001788\tvalidation_0-mlogloss:0.076289\tvalidation_1-merror:0.157953\tvalidation_1-mlogloss:0.48281\n",
      "[222]\tvalidation_0-merror:0.001788\tvalidation_0-mlogloss:0.075623\tvalidation_1-merror:0.157675\tvalidation_1-mlogloss:0.482725\n",
      "[223]\tvalidation_0-merror:0.001549\tvalidation_0-mlogloss:0.074987\tvalidation_1-merror:0.156007\tvalidation_1-mlogloss:0.482589\n",
      "[224]\tvalidation_0-merror:0.00143\tvalidation_0-mlogloss:0.07431\tvalidation_1-merror:0.155451\tvalidation_1-mlogloss:0.482324\n",
      "[225]\tvalidation_0-merror:0.001192\tvalidation_0-mlogloss:0.073666\tvalidation_1-merror:0.156563\tvalidation_1-mlogloss:0.482565\n",
      "[226]\tvalidation_0-merror:0.001073\tvalidation_0-mlogloss:0.073037\tvalidation_1-merror:0.156563\tvalidation_1-mlogloss:0.482443\n",
      "Stopping. Best iteration:\n",
      "[206]\tvalidation_0-merror:0.002861\tvalidation_0-mlogloss:0.086736\tvalidation_1-merror:0.157119\tvalidation_1-mlogloss:0.48101\n",
      "\n",
      "Accuracy: 84.34%\n"
     ]
    },
    {
     "data": {
      "image/png": "[encoded data removed]",
      "text/plain": [
       "<matplotlib.figure.Figure at 0x7f8c7d7bc410>"
      ]
     },
     "metadata": {},
     "output_type": "display_data"
    },
    {
     "data": {
      "image/png": "[encoded data removed]",
      "text/plain": [
       "<matplotlib.figure.Figure at 0x7f8c580c07d0>"
      ]
     },
     "metadata": {},
     "output_type": "display_data"
    }
   ],
   "source": [
    "from sklearn.metrics import accuracy_score\n",
    "model = xgboost.XGBClassifier(learning_rate =0.1,\n",
    " n_estimators=3000,\n",
    " max_depth=4,\n",
    " min_child_weight=1,\n",
    " gamma=0.1,\n",
    " subsample=0.5,\n",
    " colsample_bytree=0.8,\n",
    " reg_alpha=0.005,\n",
    " objective= 'multi:softmax',\n",
    " nthread=8,\n",
    " scale_pos_weight=1,\n",
    " seed=22)\n",
    "evaluation_set = [(X_train_full, y_train_full), (X_test_full, y_test_full)]\n",
    "model.fit(X_train_full, y_train_full, eval_metric=[\"merror\", \"mlogloss\"], eval_set=evaluation_set,early_stopping_rounds=20, verbose=True)\n",
    "\n",
    "y_predictions = model.predict(X_test_full)\n",
    "# evaluate predictions\n",
    "accuracy = accuracy_score(y_test_full, y_predictions)\n",
    "print(\"Accuracy: %.2f%%\" % (accuracy * 100.0))\n",
    "# retrieve performance metrics\n",
    "results = model.evals_result()\n",
    "epochs = len(results['validation_0']['merror'])\n",
    "x_axis = range(0, epochs)\n",
    "# plot log loss\n",
    "fig, ax = plt.subplots()\n",
    "ax.plot(x_axis, results['validation_0']['mlogloss'], label='Train')\n",
    "ax.plot(x_axis, results['validation_1']['mlogloss'], label='Test')\n",
    "ax.legend()\n",
    "plt.ylabel('Log Loss')\n",
    "plt.title('XGBoost Log Loss')\n",
    "plt.show()\n",
    "# plot classification error\n",
    "fig, ax = plt.subplots()\n",
    "ax.plot(x_axis, results['validation_0']['merror'], label='Train')\n",
    "ax.plot(x_axis, results['validation_1']['merror'], label='Test')\n",
    "ax.legend()\n",
    "plt.ylabel('Classification Error')\n",
    "plt.title('XGBoost Classification Error')\n",
    "plt.show()"
   ]
  },
  {
   "cell_type": "code",
   "execution_count": 47,
   "metadata": {
    "collapsed": false
   },
   "outputs": [
    {
     "name": "stdout",
     "output_type": "stream",
     "text": [
      "[0]\tvalidation_0-merror:0.262336\tvalidation_0-mlogloss:1.64032\tvalidation_1-merror:0.296162\tvalidation_1-mlogloss:1.6503\n",
      "Multiple eval metrics have been passed: 'validation_1-mlogloss' will be used for early stopping.\n",
      "\n",
      "Will train until validation_1-mlogloss hasn't improved in 20 rounds.\n",
      "[1]\tvalidation_0-merror:0.226103\tvalidation_0-mlogloss:1.51914\tvalidation_1-merror:0.265295\tvalidation_1-mlogloss:1.53864\n",
      "[2]\tvalidation_0-merror:0.212515\tvalidation_0-mlogloss:1.41895\tvalidation_1-merror:0.259455\tvalidation_1-mlogloss:1.44512\n",
      "[3]\tvalidation_0-merror:0.198927\tvalidation_0-mlogloss:1.32952\tvalidation_1-merror:0.246663\tvalidation_1-mlogloss:1.3627\n",
      "[4]\tvalidation_0-merror:0.195709\tvalidation_0-mlogloss:1.25292\tvalidation_1-merror:0.238598\tvalidation_1-mlogloss:1.29238\n",
      "[5]\tvalidation_0-merror:0.191538\tvalidation_0-mlogloss:1.18611\tvalidation_1-merror:0.234705\tvalidation_1-mlogloss:1.23049\n",
      "[6]\tvalidation_0-merror:0.188439\tvalidation_0-mlogloss:1.12566\tvalidation_1-merror:0.229978\tvalidation_1-mlogloss:1.17487\n",
      "[7]\tvalidation_0-merror:0.183313\tvalidation_0-mlogloss:1.07067\tvalidation_1-merror:0.228865\tvalidation_1-mlogloss:1.12402\n",
      "[8]\tvalidation_0-merror:0.178069\tvalidation_0-mlogloss:1.02099\tvalidation_1-merror:0.221079\tvalidation_1-mlogloss:1.07904\n",
      "[9]\tvalidation_0-merror:0.174255\tvalidation_0-mlogloss:0.976669\tvalidation_1-merror:0.21802\tvalidation_1-mlogloss:1.03877\n",
      "[10]\tvalidation_0-merror:0.171395\tvalidation_0-mlogloss:0.93499\tvalidation_1-merror:0.215795\tvalidation_1-mlogloss:1.00179\n",
      "[11]\tvalidation_0-merror:0.169249\tvalidation_0-mlogloss:0.897919\tvalidation_1-merror:0.211902\tvalidation_1-mlogloss:0.967798\n",
      "[12]\tvalidation_0-merror:0.166746\tvalidation_0-mlogloss:0.863661\tvalidation_1-merror:0.212458\tvalidation_1-mlogloss:0.937006\n",
      "[13]\tvalidation_0-merror:0.164482\tvalidation_0-mlogloss:0.831344\tvalidation_1-merror:0.210512\tvalidation_1-mlogloss:0.908672\n",
      "[14]\tvalidation_0-merror:0.160191\tvalidation_0-mlogloss:0.802254\tvalidation_1-merror:0.211068\tvalidation_1-mlogloss:0.883025\n",
      "[15]\tvalidation_0-merror:0.159833\tvalidation_0-mlogloss:0.775647\tvalidation_1-merror:0.211346\tvalidation_1-mlogloss:0.859631\n",
      "[16]\tvalidation_0-merror:0.157688\tvalidation_0-mlogloss:0.75092\tvalidation_1-merror:0.209399\tvalidation_1-mlogloss:0.837284\n",
      "[17]\tvalidation_0-merror:0.1559\tvalidation_0-mlogloss:0.727936\tvalidation_1-merror:0.20634\tvalidation_1-mlogloss:0.817538\n",
      "[18]\tvalidation_0-merror:0.15447\tvalidation_0-mlogloss:0.706784\tvalidation_1-merror:0.204672\tvalidation_1-mlogloss:0.799082\n",
      "[19]\tvalidation_0-merror:0.154827\tvalidation_0-mlogloss:0.687497\tvalidation_1-merror:0.206062\tvalidation_1-mlogloss:0.782595\n",
      "[20]\tvalidation_0-merror:0.153397\tvalidation_0-mlogloss:0.669079\tvalidation_1-merror:0.20356\tvalidation_1-mlogloss:0.766709\n",
      "[21]\tvalidation_0-merror:0.150298\tvalidation_0-mlogloss:0.651874\tvalidation_1-merror:0.203281\tvalidation_1-mlogloss:0.752184\n",
      "[22]\tvalidation_0-merror:0.148272\tvalidation_0-mlogloss:0.634713\tvalidation_1-merror:0.203003\tvalidation_1-mlogloss:0.738108\n",
      "[23]\tvalidation_0-merror:0.147676\tvalidation_0-mlogloss:0.619742\tvalidation_1-merror:0.203003\tvalidation_1-mlogloss:0.725722\n",
      "[24]\tvalidation_0-merror:0.14708\tvalidation_0-mlogloss:0.604859\tvalidation_1-merror:0.199666\tvalidation_1-mlogloss:0.713289\n",
      "[25]\tvalidation_0-merror:0.145054\tvalidation_0-mlogloss:0.591404\tvalidation_1-merror:0.19772\tvalidation_1-mlogloss:0.702705\n",
      "[26]\tvalidation_0-merror:0.143981\tvalidation_0-mlogloss:0.578071\tvalidation_1-merror:0.198554\tvalidation_1-mlogloss:0.691786\n",
      "[27]\tvalidation_0-merror:0.141716\tvalidation_0-mlogloss:0.564876\tvalidation_1-merror:0.19772\tvalidation_1-mlogloss:0.680943\n",
      "[28]\tvalidation_0-merror:0.138856\tvalidation_0-mlogloss:0.552976\tvalidation_1-merror:0.196329\tvalidation_1-mlogloss:0.671769\n",
      "[29]\tvalidation_0-merror:0.138498\tvalidation_0-mlogloss:0.541122\tvalidation_1-merror:0.195495\tvalidation_1-mlogloss:0.662986\n",
      "[30]\tvalidation_0-merror:0.135638\tvalidation_0-mlogloss:0.529618\tvalidation_1-merror:0.194383\tvalidation_1-mlogloss:0.654507\n",
      "[31]\tvalidation_0-merror:0.134803\tvalidation_0-mlogloss:0.519301\tvalidation_1-merror:0.192714\tvalidation_1-mlogloss:0.646636\n",
      "[32]\tvalidation_0-merror:0.132062\tvalidation_0-mlogloss:0.509985\tvalidation_1-merror:0.190768\tvalidation_1-mlogloss:0.639113\n",
      "[33]\tvalidation_0-merror:0.131108\tvalidation_0-mlogloss:0.500114\tvalidation_1-merror:0.190768\tvalidation_1-mlogloss:0.631897\n",
      "[34]\tvalidation_0-merror:0.130155\tvalidation_0-mlogloss:0.491949\tvalidation_1-merror:0.189377\tvalidation_1-mlogloss:0.626451\n",
      "[35]\tvalidation_0-merror:0.129321\tvalidation_0-mlogloss:0.483439\tvalidation_1-merror:0.186318\tvalidation_1-mlogloss:0.61949\n",
      "[36]\tvalidation_0-merror:0.127771\tvalidation_0-mlogloss:0.47569\tvalidation_1-merror:0.187987\tvalidation_1-mlogloss:0.614068\n",
      "[37]\tvalidation_0-merror:0.126103\tvalidation_0-mlogloss:0.467033\tvalidation_1-merror:0.187152\tvalidation_1-mlogloss:0.60787\n",
      "[38]\tvalidation_0-merror:0.124553\tvalidation_0-mlogloss:0.459367\tvalidation_1-merror:0.187709\tvalidation_1-mlogloss:0.60286\n",
      "[39]\tvalidation_0-merror:0.122408\tvalidation_0-mlogloss:0.451449\tvalidation_1-merror:0.188265\tvalidation_1-mlogloss:0.597572\n",
      "[40]\tvalidation_0-merror:0.120143\tvalidation_0-mlogloss:0.444224\tvalidation_1-merror:0.186596\tvalidation_1-mlogloss:0.592822\n",
      "[41]\tvalidation_0-merror:0.117998\tvalidation_0-mlogloss:0.436869\tvalidation_1-merror:0.185206\tvalidation_1-mlogloss:0.588312\n",
      "[42]\tvalidation_0-merror:0.116091\tvalidation_0-mlogloss:0.42942\tvalidation_1-merror:0.185762\tvalidation_1-mlogloss:0.582826\n",
      "[43]\tvalidation_0-merror:0.115375\tvalidation_0-mlogloss:0.423005\tvalidation_1-merror:0.184928\tvalidation_1-mlogloss:0.579214\n",
      "[44]\tvalidation_0-merror:0.113111\tvalidation_0-mlogloss:0.416554\tvalidation_1-merror:0.183815\tvalidation_1-mlogloss:0.575302\n",
      "[45]\tvalidation_0-merror:0.111681\tvalidation_0-mlogloss:0.410351\tvalidation_1-merror:0.183259\tvalidation_1-mlogloss:0.571665\n",
      "[46]\tvalidation_0-merror:0.110608\tvalidation_0-mlogloss:0.404347\tvalidation_1-merror:0.183537\tvalidation_1-mlogloss:0.568238\n",
      "[47]\tvalidation_0-merror:0.108939\tvalidation_0-mlogloss:0.398748\tvalidation_1-merror:0.182425\tvalidation_1-mlogloss:0.565222\n",
      "[48]\tvalidation_0-merror:0.107986\tvalidation_0-mlogloss:0.393632\tvalidation_1-merror:0.181034\tvalidation_1-mlogloss:0.561943\n",
      "[49]\tvalidation_0-merror:0.10739\tvalidation_0-mlogloss:0.388653\tvalidation_1-merror:0.182703\tvalidation_1-mlogloss:0.559615\n",
      "[50]\tvalidation_0-merror:0.105721\tvalidation_0-mlogloss:0.383867\tvalidation_1-merror:0.182981\tvalidation_1-mlogloss:0.556447\n",
      "[51]\tvalidation_0-merror:0.105364\tvalidation_0-mlogloss:0.378706\tvalidation_1-merror:0.180478\tvalidation_1-mlogloss:0.553558\n",
      "[52]\tvalidation_0-merror:0.102861\tvalidation_0-mlogloss:0.37315\tvalidation_1-merror:0.180756\tvalidation_1-mlogloss:0.550311\n",
      "[53]\tvalidation_0-merror:0.101788\tvalidation_0-mlogloss:0.3682\tvalidation_1-merror:0.181313\tvalidation_1-mlogloss:0.547694\n",
      "[54]\tvalidation_0-merror:0.100596\tvalidation_0-mlogloss:0.363593\tvalidation_1-merror:0.182147\tvalidation_1-mlogloss:0.545378\n",
      "[55]\tvalidation_0-merror:0.09857\tvalidation_0-mlogloss:0.358146\tvalidation_1-merror:0.17881\tvalidation_1-mlogloss:0.542482\n",
      "[56]\tvalidation_0-merror:0.098212\tvalidation_0-mlogloss:0.353719\tvalidation_1-merror:0.178532\tvalidation_1-mlogloss:0.539641\n",
      "[57]\tvalidation_0-merror:0.096067\tvalidation_0-mlogloss:0.34938\tvalidation_1-merror:0.177141\tvalidation_1-mlogloss:0.537601\n",
      "[58]\tvalidation_0-merror:0.096067\tvalidation_0-mlogloss:0.344886\tvalidation_1-merror:0.176863\tvalidation_1-mlogloss:0.535737\n",
      "[59]\tvalidation_0-merror:0.094041\tvalidation_0-mlogloss:0.341045\tvalidation_1-merror:0.176307\tvalidation_1-mlogloss:0.533959\n",
      "[60]\tvalidation_0-merror:0.092253\tvalidation_0-mlogloss:0.337086\tvalidation_1-merror:0.176863\tvalidation_1-mlogloss:0.532566\n",
      "[61]\tvalidation_0-merror:0.091776\tvalidation_0-mlogloss:0.333046\tvalidation_1-merror:0.176863\tvalidation_1-mlogloss:0.530865\n",
      "[62]\tvalidation_0-merror:0.090584\tvalidation_0-mlogloss:0.329155\tvalidation_1-merror:0.176307\tvalidation_1-mlogloss:0.529233\n",
      "[63]\tvalidation_0-merror:0.089511\tvalidation_0-mlogloss:0.325241\tvalidation_1-merror:0.176307\tvalidation_1-mlogloss:0.527549\n",
      "[64]\tvalidation_0-merror:0.088439\tvalidation_0-mlogloss:0.321106\tvalidation_1-merror:0.175751\tvalidation_1-mlogloss:0.526406\n",
      "[65]\tvalidation_0-merror:0.087008\tvalidation_0-mlogloss:0.317821\tvalidation_1-merror:0.175751\tvalidation_1-mlogloss:0.52494\n",
      "[66]\tvalidation_0-merror:0.08677\tvalidation_0-mlogloss:0.314222\tvalidation_1-merror:0.173526\tvalidation_1-mlogloss:0.523222\n",
      "[67]\tvalidation_0-merror:0.085816\tvalidation_0-mlogloss:0.310908\tvalidation_1-merror:0.174082\tvalidation_1-mlogloss:0.521693\n",
      "[68]\tvalidation_0-merror:0.084744\tvalidation_0-mlogloss:0.30763\tvalidation_1-merror:0.173248\tvalidation_1-mlogloss:0.520356\n",
      "[69]\tvalidation_0-merror:0.08379\tvalidation_0-mlogloss:0.304252\tvalidation_1-merror:0.173804\tvalidation_1-mlogloss:0.519373\n",
      "[70]\tvalidation_0-merror:0.083313\tvalidation_0-mlogloss:0.300763\tvalidation_1-merror:0.17297\tvalidation_1-mlogloss:0.518652\n",
      "[71]\tvalidation_0-merror:0.081049\tvalidation_0-mlogloss:0.297176\tvalidation_1-merror:0.172692\tvalidation_1-mlogloss:0.517236\n",
      "[72]\tvalidation_0-merror:0.080334\tvalidation_0-mlogloss:0.294495\tvalidation_1-merror:0.172692\tvalidation_1-mlogloss:0.516901\n",
      "[73]\tvalidation_0-merror:0.079499\tvalidation_0-mlogloss:0.291038\tvalidation_1-merror:0.172692\tvalidation_1-mlogloss:0.515875\n",
      "[74]\tvalidation_0-merror:0.078069\tvalidation_0-mlogloss:0.28804\tvalidation_1-merror:0.172692\tvalidation_1-mlogloss:0.515476\n",
      "[75]\tvalidation_0-merror:0.0764\tvalidation_0-mlogloss:0.284639\tvalidation_1-merror:0.172414\tvalidation_1-mlogloss:0.514229\n",
      "[76]\tvalidation_0-merror:0.07497\tvalidation_0-mlogloss:0.281342\tvalidation_1-merror:0.173248\tvalidation_1-mlogloss:0.513573\n",
      "[77]\tvalidation_0-merror:0.073659\tvalidation_0-mlogloss:0.278324\tvalidation_1-merror:0.173248\tvalidation_1-mlogloss:0.512933\n",
      "[78]\tvalidation_0-merror:0.072586\tvalidation_0-mlogloss:0.275404\tvalidation_1-merror:0.173248\tvalidation_1-mlogloss:0.512138\n",
      "[79]\tvalidation_0-merror:0.072229\tvalidation_0-mlogloss:0.272917\tvalidation_1-merror:0.173804\tvalidation_1-mlogloss:0.511509\n",
      "[80]\tvalidation_0-merror:0.071633\tvalidation_0-mlogloss:0.27008\tvalidation_1-merror:0.173526\tvalidation_1-mlogloss:0.510622\n",
      "[81]\tvalidation_0-merror:0.070441\tvalidation_0-mlogloss:0.267242\tvalidation_1-merror:0.173248\tvalidation_1-mlogloss:0.510242\n",
      "[82]\tvalidation_0-merror:0.069011\tvalidation_0-mlogloss:0.264616\tvalidation_1-merror:0.172136\tvalidation_1-mlogloss:0.509587\n",
      "[83]\tvalidation_0-merror:0.066746\tvalidation_0-mlogloss:0.26153\tvalidation_1-merror:0.172692\tvalidation_1-mlogloss:0.508786\n",
      "[84]\tvalidation_0-merror:0.065435\tvalidation_0-mlogloss:0.258909\tvalidation_1-merror:0.172692\tvalidation_1-mlogloss:0.507832\n",
      "[85]\tvalidation_0-merror:0.064958\tvalidation_0-mlogloss:0.256473\tvalidation_1-merror:0.172414\tvalidation_1-mlogloss:0.507041\n",
      "[86]\tvalidation_0-merror:0.063886\tvalidation_0-mlogloss:0.253759\tvalidation_1-merror:0.172136\tvalidation_1-mlogloss:0.506427\n",
      "[87]\tvalidation_0-merror:0.062217\tvalidation_0-mlogloss:0.25133\tvalidation_1-merror:0.171301\tvalidation_1-mlogloss:0.505562\n",
      "[88]\tvalidation_0-merror:0.06174\tvalidation_0-mlogloss:0.248722\tvalidation_1-merror:0.171301\tvalidation_1-mlogloss:0.504143\n",
      "[89]\tvalidation_0-merror:0.060667\tvalidation_0-mlogloss:0.246149\tvalidation_1-merror:0.171023\tvalidation_1-mlogloss:0.503549\n",
      "[90]\tvalidation_0-merror:0.059237\tvalidation_0-mlogloss:0.243642\tvalidation_1-merror:0.17158\tvalidation_1-mlogloss:0.503278\n",
      "[91]\tvalidation_0-merror:0.058999\tvalidation_0-mlogloss:0.241463\tvalidation_1-merror:0.171301\tvalidation_1-mlogloss:0.502843\n",
      "[92]\tvalidation_0-merror:0.057807\tvalidation_0-mlogloss:0.239304\tvalidation_1-merror:0.169355\tvalidation_1-mlogloss:0.501939\n",
      "[93]\tvalidation_0-merror:0.056377\tvalidation_0-mlogloss:0.23665\tvalidation_1-merror:0.168521\tvalidation_1-mlogloss:0.500882\n",
      "[94]\tvalidation_0-merror:0.054708\tvalidation_0-mlogloss:0.234277\tvalidation_1-merror:0.169077\tvalidation_1-mlogloss:0.499962\n",
      "[95]\tvalidation_0-merror:0.05435\tvalidation_0-mlogloss:0.232274\tvalidation_1-merror:0.169355\tvalidation_1-mlogloss:0.499626\n",
      "[96]\tvalidation_0-merror:0.053159\tvalidation_0-mlogloss:0.230053\tvalidation_1-merror:0.167964\tvalidation_1-mlogloss:0.498707\n",
      "[97]\tvalidation_0-merror:0.052086\tvalidation_0-mlogloss:0.227833\tvalidation_1-merror:0.169355\tvalidation_1-mlogloss:0.498266\n",
      "[98]\tvalidation_0-merror:0.051013\tvalidation_0-mlogloss:0.22571\tvalidation_1-merror:0.169355\tvalidation_1-mlogloss:0.498001\n",
      "[99]\tvalidation_0-merror:0.050894\tvalidation_0-mlogloss:0.223518\tvalidation_1-merror:0.169355\tvalidation_1-mlogloss:0.49737\n",
      "[100]\tvalidation_0-merror:0.04994\tvalidation_0-mlogloss:0.221463\tvalidation_1-merror:0.169911\tvalidation_1-mlogloss:0.496726\n",
      "[101]\tvalidation_0-merror:0.049344\tvalidation_0-mlogloss:0.21964\tvalidation_1-merror:0.16713\tvalidation_1-mlogloss:0.496605\n",
      "[102]\tvalidation_0-merror:0.047557\tvalidation_0-mlogloss:0.217529\tvalidation_1-merror:0.168242\tvalidation_1-mlogloss:0.496132\n",
      "[103]\tvalidation_0-merror:0.046961\tvalidation_0-mlogloss:0.215416\tvalidation_1-merror:0.167408\tvalidation_1-mlogloss:0.495512\n",
      "[104]\tvalidation_0-merror:0.045769\tvalidation_0-mlogloss:0.213329\tvalidation_1-merror:0.167408\tvalidation_1-mlogloss:0.494803\n",
      "[105]\tvalidation_0-merror:0.044458\tvalidation_0-mlogloss:0.211348\tvalidation_1-merror:0.16713\tvalidation_1-mlogloss:0.494432\n",
      "[106]\tvalidation_0-merror:0.044219\tvalidation_0-mlogloss:0.209358\tvalidation_1-merror:0.16713\tvalidation_1-mlogloss:0.493974\n",
      "[107]\tvalidation_0-merror:0.043027\tvalidation_0-mlogloss:0.207233\tvalidation_1-merror:0.167686\tvalidation_1-mlogloss:0.493367\n",
      "[108]\tvalidation_0-merror:0.042551\tvalidation_0-mlogloss:0.205058\tvalidation_1-merror:0.168799\tvalidation_1-mlogloss:0.493237\n",
      "[109]\tvalidation_0-merror:0.041001\tvalidation_0-mlogloss:0.202816\tvalidation_1-merror:0.168799\tvalidation_1-mlogloss:0.492559\n",
      "[110]\tvalidation_0-merror:0.039809\tvalidation_0-mlogloss:0.2008\tvalidation_1-merror:0.167408\tvalidation_1-mlogloss:0.492206\n",
      "[111]\tvalidation_0-merror:0.039809\tvalidation_0-mlogloss:0.198927\tvalidation_1-merror:0.167964\tvalidation_1-mlogloss:0.491782\n",
      "[112]\tvalidation_0-merror:0.038975\tvalidation_0-mlogloss:0.197276\tvalidation_1-merror:0.167686\tvalidation_1-mlogloss:0.491294\n",
      "[113]\tvalidation_0-merror:0.038021\tvalidation_0-mlogloss:0.195462\tvalidation_1-merror:0.16713\tvalidation_1-mlogloss:0.490676\n",
      "[114]\tvalidation_0-merror:0.037187\tvalidation_0-mlogloss:0.1937\tvalidation_1-merror:0.166018\tvalidation_1-mlogloss:0.490316\n",
      "[115]\tvalidation_0-merror:0.036353\tvalidation_0-mlogloss:0.191911\tvalidation_1-merror:0.166296\tvalidation_1-mlogloss:0.490421\n",
      "[116]\tvalidation_0-merror:0.03528\tvalidation_0-mlogloss:0.189898\tvalidation_1-merror:0.165462\tvalidation_1-mlogloss:0.490055\n",
      "[117]\tvalidation_0-merror:0.03528\tvalidation_0-mlogloss:0.188416\tvalidation_1-merror:0.165184\tvalidation_1-mlogloss:0.489531\n",
      "[118]\tvalidation_0-merror:0.034446\tvalidation_0-mlogloss:0.186474\tvalidation_1-merror:0.164905\tvalidation_1-mlogloss:0.489539\n",
      "[119]\tvalidation_0-merror:0.033373\tvalidation_0-mlogloss:0.184783\tvalidation_1-merror:0.165462\tvalidation_1-mlogloss:0.489405\n",
      "[120]\tvalidation_0-merror:0.032539\tvalidation_0-mlogloss:0.183111\tvalidation_1-merror:0.164905\tvalidation_1-mlogloss:0.489646\n",
      "[121]\tvalidation_0-merror:0.030989\tvalidation_0-mlogloss:0.18155\tvalidation_1-merror:0.164905\tvalidation_1-mlogloss:0.489733\n",
      "[122]\tvalidation_0-merror:0.030393\tvalidation_0-mlogloss:0.179998\tvalidation_1-merror:0.164627\tvalidation_1-mlogloss:0.489315\n",
      "[123]\tvalidation_0-merror:0.029797\tvalidation_0-mlogloss:0.178543\tvalidation_1-merror:0.163515\tvalidation_1-mlogloss:0.488914\n",
      "[124]\tvalidation_0-merror:0.02944\tvalidation_0-mlogloss:0.176938\tvalidation_1-merror:0.165184\tvalidation_1-mlogloss:0.488863\n",
      "[125]\tvalidation_0-merror:0.028486\tvalidation_0-mlogloss:0.17551\tvalidation_1-merror:0.164071\tvalidation_1-mlogloss:0.488983\n",
      "[126]\tvalidation_0-merror:0.02801\tvalidation_0-mlogloss:0.173725\tvalidation_1-merror:0.163515\tvalidation_1-mlogloss:0.488676\n",
      "[127]\tvalidation_0-merror:0.027294\tvalidation_0-mlogloss:0.172214\tvalidation_1-merror:0.163515\tvalidation_1-mlogloss:0.488522\n",
      "[128]\tvalidation_0-merror:0.026698\tvalidation_0-mlogloss:0.170456\tvalidation_1-merror:0.164627\tvalidation_1-mlogloss:0.488462\n",
      "[129]\tvalidation_0-merror:0.025864\tvalidation_0-mlogloss:0.168969\tvalidation_1-merror:0.164627\tvalidation_1-mlogloss:0.488321\n",
      "[130]\tvalidation_0-merror:0.025268\tvalidation_0-mlogloss:0.167293\tvalidation_1-merror:0.164349\tvalidation_1-mlogloss:0.48847\n",
      "[131]\tvalidation_0-merror:0.025387\tvalidation_0-mlogloss:0.165839\tvalidation_1-merror:0.163237\tvalidation_1-mlogloss:0.488068\n",
      "[132]\tvalidation_0-merror:0.024195\tvalidation_0-mlogloss:0.164315\tvalidation_1-merror:0.163237\tvalidation_1-mlogloss:0.487501\n",
      "[133]\tvalidation_0-merror:0.024076\tvalidation_0-mlogloss:0.162853\tvalidation_1-merror:0.164349\tvalidation_1-mlogloss:0.487334\n",
      "[134]\tvalidation_0-merror:0.023719\tvalidation_0-mlogloss:0.161421\tvalidation_1-merror:0.161846\tvalidation_1-mlogloss:0.487149\n",
      "[135]\tvalidation_0-merror:0.023004\tvalidation_0-mlogloss:0.159921\tvalidation_1-merror:0.162403\tvalidation_1-mlogloss:0.486774\n",
      "[136]\tvalidation_0-merror:0.02205\tvalidation_0-mlogloss:0.158546\tvalidation_1-merror:0.162403\tvalidation_1-mlogloss:0.486613\n",
      "[137]\tvalidation_0-merror:0.021573\tvalidation_0-mlogloss:0.157006\tvalidation_1-merror:0.161568\tvalidation_1-mlogloss:0.486522\n",
      "[138]\tvalidation_0-merror:0.021097\tvalidation_0-mlogloss:0.155465\tvalidation_1-merror:0.163793\tvalidation_1-mlogloss:0.486483\n",
      "[139]\tvalidation_0-merror:0.020858\tvalidation_0-mlogloss:0.154059\tvalidation_1-merror:0.162959\tvalidation_1-mlogloss:0.485921\n",
      "[140]\tvalidation_0-merror:0.019785\tvalidation_0-mlogloss:0.152582\tvalidation_1-merror:0.162959\tvalidation_1-mlogloss:0.485281\n",
      "[141]\tvalidation_0-merror:0.019547\tvalidation_0-mlogloss:0.15141\tvalidation_1-merror:0.162681\tvalidation_1-mlogloss:0.485186\n",
      "[142]\tvalidation_0-merror:0.01907\tvalidation_0-mlogloss:0.150106\tvalidation_1-merror:0.162959\tvalidation_1-mlogloss:0.484979\n",
      "[143]\tvalidation_0-merror:0.018355\tvalidation_0-mlogloss:0.148916\tvalidation_1-merror:0.162959\tvalidation_1-mlogloss:0.485005\n",
      "[144]\tvalidation_0-merror:0.017998\tvalidation_0-mlogloss:0.147739\tvalidation_1-merror:0.164905\tvalidation_1-mlogloss:0.484968\n",
      "[145]\tvalidation_0-merror:0.01764\tvalidation_0-mlogloss:0.146561\tvalidation_1-merror:0.164905\tvalidation_1-mlogloss:0.484669\n",
      "[146]\tvalidation_0-merror:0.017282\tvalidation_0-mlogloss:0.14541\tvalidation_1-merror:0.164627\tvalidation_1-mlogloss:0.484628\n",
      "[147]\tvalidation_0-merror:0.016806\tvalidation_0-mlogloss:0.144326\tvalidation_1-merror:0.163237\tvalidation_1-mlogloss:0.484274\n",
      "[148]\tvalidation_0-merror:0.016567\tvalidation_0-mlogloss:0.142936\tvalidation_1-merror:0.162959\tvalidation_1-mlogloss:0.483701\n",
      "[149]\tvalidation_0-merror:0.016091\tvalidation_0-mlogloss:0.141667\tvalidation_1-merror:0.162125\tvalidation_1-mlogloss:0.483231\n",
      "[150]\tvalidation_0-merror:0.015733\tvalidation_0-mlogloss:0.140483\tvalidation_1-merror:0.162403\tvalidation_1-mlogloss:0.483386\n",
      "[151]\tvalidation_0-merror:0.01466\tvalidation_0-mlogloss:0.139065\tvalidation_1-merror:0.162125\tvalidation_1-mlogloss:0.483477\n",
      "[152]\tvalidation_0-merror:0.014541\tvalidation_0-mlogloss:0.137791\tvalidation_1-merror:0.162959\tvalidation_1-mlogloss:0.483175\n",
      "[153]\tvalidation_0-merror:0.013945\tvalidation_0-mlogloss:0.136567\tvalidation_1-merror:0.162125\tvalidation_1-mlogloss:0.482939\n",
      "[154]\tvalidation_0-merror:0.013707\tvalidation_0-mlogloss:0.135541\tvalidation_1-merror:0.161568\tvalidation_1-mlogloss:0.482873\n",
      "[155]\tvalidation_0-merror:0.013349\tvalidation_0-mlogloss:0.13431\tvalidation_1-merror:0.162403\tvalidation_1-mlogloss:0.482807\n",
      "[156]\tvalidation_0-merror:0.013349\tvalidation_0-mlogloss:0.133014\tvalidation_1-merror:0.162681\tvalidation_1-mlogloss:0.482621\n",
      "[157]\tvalidation_0-merror:0.012872\tvalidation_0-mlogloss:0.131848\tvalidation_1-merror:0.161846\tvalidation_1-mlogloss:0.482833\n",
      "[158]\tvalidation_0-merror:0.011919\tvalidation_0-mlogloss:0.13072\tvalidation_1-merror:0.161012\tvalidation_1-mlogloss:0.482405\n",
      "[159]\tvalidation_0-merror:0.011561\tvalidation_0-mlogloss:0.129324\tvalidation_1-merror:0.16129\tvalidation_1-mlogloss:0.482395\n",
      "[160]\tvalidation_0-merror:0.011561\tvalidation_0-mlogloss:0.128118\tvalidation_1-merror:0.160456\tvalidation_1-mlogloss:0.481989\n",
      "[161]\tvalidation_0-merror:0.011323\tvalidation_0-mlogloss:0.127026\tvalidation_1-merror:0.160456\tvalidation_1-mlogloss:0.481557\n",
      "[162]\tvalidation_0-merror:0.011204\tvalidation_0-mlogloss:0.125995\tvalidation_1-merror:0.1599\tvalidation_1-mlogloss:0.481221\n",
      "[163]\tvalidation_0-merror:0.010489\tvalidation_0-mlogloss:0.124906\tvalidation_1-merror:0.159622\tvalidation_1-mlogloss:0.480949\n",
      "[164]\tvalidation_0-merror:0.010012\tvalidation_0-mlogloss:0.123906\tvalidation_1-merror:0.158509\tvalidation_1-mlogloss:0.480792\n",
      "[165]\tvalidation_0-merror:0.010012\tvalidation_0-mlogloss:0.123116\tvalidation_1-merror:0.160456\tvalidation_1-mlogloss:0.480629\n",
      "[166]\tvalidation_0-merror:0.010131\tvalidation_0-mlogloss:0.122065\tvalidation_1-merror:0.160734\tvalidation_1-mlogloss:0.480781\n",
      "[167]\tvalidation_0-merror:0.009654\tvalidation_0-mlogloss:0.12099\tvalidation_1-merror:0.159344\tvalidation_1-mlogloss:0.480651\n",
      "[168]\tvalidation_0-merror:0.009416\tvalidation_0-mlogloss:0.119864\tvalidation_1-merror:0.1599\tvalidation_1-mlogloss:0.480123\n",
      "[169]\tvalidation_0-merror:0.008939\tvalidation_0-mlogloss:0.118762\tvalidation_1-merror:0.1599\tvalidation_1-mlogloss:0.48045\n",
      "[170]\tvalidation_0-merror:0.008939\tvalidation_0-mlogloss:0.117885\tvalidation_1-merror:0.1599\tvalidation_1-mlogloss:0.480305\n",
      "[171]\tvalidation_0-merror:0.00882\tvalidation_0-mlogloss:0.116693\tvalidation_1-merror:0.160178\tvalidation_1-mlogloss:0.480152\n",
      "[172]\tvalidation_0-merror:0.008105\tvalidation_0-mlogloss:0.115861\tvalidation_1-merror:0.160456\tvalidation_1-mlogloss:0.480115\n",
      "[173]\tvalidation_0-merror:0.007867\tvalidation_0-mlogloss:0.114889\tvalidation_1-merror:0.160178\tvalidation_1-mlogloss:0.480593\n",
      "[174]\tvalidation_0-merror:0.007747\tvalidation_0-mlogloss:0.113679\tvalidation_1-merror:0.160178\tvalidation_1-mlogloss:0.480597\n",
      "[175]\tvalidation_0-merror:0.007509\tvalidation_0-mlogloss:0.11269\tvalidation_1-merror:0.159066\tvalidation_1-mlogloss:0.480676\n",
      "[176]\tvalidation_0-merror:0.007032\tvalidation_0-mlogloss:0.111979\tvalidation_1-merror:0.160178\tvalidation_1-mlogloss:0.480819\n",
      "[177]\tvalidation_0-merror:0.006555\tvalidation_0-mlogloss:0.111057\tvalidation_1-merror:0.1599\tvalidation_1-mlogloss:0.480827\n",
      "[178]\tvalidation_0-merror:0.006555\tvalidation_0-mlogloss:0.110178\tvalidation_1-merror:0.159622\tvalidation_1-mlogloss:0.480801\n",
      "[179]\tvalidation_0-merror:0.006555\tvalidation_0-mlogloss:0.109352\tvalidation_1-merror:0.160734\tvalidation_1-mlogloss:0.480899\n",
      "[180]\tvalidation_0-merror:0.006555\tvalidation_0-mlogloss:0.108222\tvalidation_1-merror:0.158788\tvalidation_1-mlogloss:0.480702\n",
      "[181]\tvalidation_0-merror:0.006436\tvalidation_0-mlogloss:0.107407\tvalidation_1-merror:0.157953\tvalidation_1-mlogloss:0.480675\n",
      "[182]\tvalidation_0-merror:0.006198\tvalidation_0-mlogloss:0.106599\tvalidation_1-merror:0.158509\tvalidation_1-mlogloss:0.480955\n",
      "[183]\tvalidation_0-merror:0.005959\tvalidation_0-mlogloss:0.105598\tvalidation_1-merror:0.157675\tvalidation_1-mlogloss:0.480842\n",
      "[184]\tvalidation_0-merror:0.005721\tvalidation_0-mlogloss:0.104689\tvalidation_1-merror:0.157675\tvalidation_1-mlogloss:0.481158\n",
      "[185]\tvalidation_0-merror:0.005364\tvalidation_0-mlogloss:0.1039\tvalidation_1-merror:0.157953\tvalidation_1-mlogloss:0.481213\n",
      "[186]\tvalidation_0-merror:0.004887\tvalidation_0-mlogloss:0.103083\tvalidation_1-merror:0.157953\tvalidation_1-mlogloss:0.480934\n",
      "[187]\tvalidation_0-merror:0.005006\tvalidation_0-mlogloss:0.102247\tvalidation_1-merror:0.156563\tvalidation_1-mlogloss:0.480424\n",
      "[188]\tvalidation_0-merror:0.004768\tvalidation_0-mlogloss:0.101399\tvalidation_1-merror:0.157397\tvalidation_1-mlogloss:0.480383\n",
      "[189]\tvalidation_0-merror:0.004291\tvalidation_0-mlogloss:0.100563\tvalidation_1-merror:0.157119\tvalidation_1-mlogloss:0.479955\n",
      "[190]\tvalidation_0-merror:0.00441\tvalidation_0-mlogloss:0.099757\tvalidation_1-merror:0.156563\tvalidation_1-mlogloss:0.480001\n",
      "[191]\tvalidation_0-merror:0.004291\tvalidation_0-mlogloss:0.098956\tvalidation_1-merror:0.155451\tvalidation_1-mlogloss:0.479804\n",
      "[192]\tvalidation_0-merror:0.00441\tvalidation_0-mlogloss:0.098043\tvalidation_1-merror:0.156563\tvalidation_1-mlogloss:0.479706\n",
      "[193]\tvalidation_0-merror:0.00441\tvalidation_0-mlogloss:0.097192\tvalidation_1-merror:0.156285\tvalidation_1-mlogloss:0.479517\n",
      "[194]\tvalidation_0-merror:0.004291\tvalidation_0-mlogloss:0.096279\tvalidation_1-merror:0.156563\tvalidation_1-mlogloss:0.47951\n",
      "[195]\tvalidation_0-merror:0.004052\tvalidation_0-mlogloss:0.095437\tvalidation_1-merror:0.156563\tvalidation_1-mlogloss:0.479335\n",
      "[196]\tvalidation_0-merror:0.004172\tvalidation_0-mlogloss:0.094516\tvalidation_1-merror:0.157397\tvalidation_1-mlogloss:0.478797\n",
      "[197]\tvalidation_0-merror:0.003695\tvalidation_0-mlogloss:0.093716\tvalidation_1-merror:0.157119\tvalidation_1-mlogloss:0.478701\n",
      "[198]\tvalidation_0-merror:0.003695\tvalidation_0-mlogloss:0.092891\tvalidation_1-merror:0.157397\tvalidation_1-mlogloss:0.478875\n",
      "[199]\tvalidation_0-merror:0.003576\tvalidation_0-mlogloss:0.092198\tvalidation_1-merror:0.158231\tvalidation_1-mlogloss:0.478903\n",
      "[200]\tvalidation_0-merror:0.003576\tvalidation_0-mlogloss:0.091458\tvalidation_1-merror:0.158231\tvalidation_1-mlogloss:0.478766\n",
      "[201]\tvalidation_0-merror:0.003218\tvalidation_0-mlogloss:0.090678\tvalidation_1-merror:0.157953\tvalidation_1-mlogloss:0.478768\n",
      "[202]\tvalidation_0-merror:0.003099\tvalidation_0-mlogloss:0.089974\tvalidation_1-merror:0.158231\tvalidation_1-mlogloss:0.478787\n",
      "[203]\tvalidation_0-merror:0.002861\tvalidation_0-mlogloss:0.089276\tvalidation_1-merror:0.158231\tvalidation_1-mlogloss:0.478954\n",
      "[204]\tvalidation_0-merror:0.002622\tvalidation_0-mlogloss:0.08843\tvalidation_1-merror:0.158509\tvalidation_1-mlogloss:0.479143\n",
      "[205]\tvalidation_0-merror:0.002741\tvalidation_0-mlogloss:0.087686\tvalidation_1-merror:0.156841\tvalidation_1-mlogloss:0.478997\n",
      "[206]\tvalidation_0-merror:0.00298\tvalidation_0-mlogloss:0.086924\tvalidation_1-merror:0.157397\tvalidation_1-mlogloss:0.479069\n",
      "[207]\tvalidation_0-merror:0.002741\tvalidation_0-mlogloss:0.086114\tvalidation_1-merror:0.157119\tvalidation_1-mlogloss:0.47933\n",
      "[208]\tvalidation_0-merror:0.002503\tvalidation_0-mlogloss:0.085401\tvalidation_1-merror:0.157953\tvalidation_1-mlogloss:0.47967\n",
      "[209]\tvalidation_0-merror:0.002503\tvalidation_0-mlogloss:0.084606\tvalidation_1-merror:0.157119\tvalidation_1-mlogloss:0.480071\n",
      "[210]\tvalidation_0-merror:0.002503\tvalidation_0-mlogloss:0.083902\tvalidation_1-merror:0.156285\tvalidation_1-mlogloss:0.479697\n",
      "[211]\tvalidation_0-merror:0.002265\tvalidation_0-mlogloss:0.083241\tvalidation_1-merror:0.157953\tvalidation_1-mlogloss:0.479794\n",
      "[212]\tvalidation_0-merror:0.002145\tvalidation_0-mlogloss:0.082557\tvalidation_1-merror:0.157953\tvalidation_1-mlogloss:0.480009\n",
      "[213]\tvalidation_0-merror:0.002145\tvalidation_0-mlogloss:0.081831\tvalidation_1-merror:0.157953\tvalidation_1-mlogloss:0.479885\n",
      "[214]\tvalidation_0-merror:0.002145\tvalidation_0-mlogloss:0.081199\tvalidation_1-merror:0.157675\tvalidation_1-mlogloss:0.479722\n",
      "[215]\tvalidation_0-merror:0.002145\tvalidation_0-mlogloss:0.080607\tvalidation_1-merror:0.157397\tvalidation_1-mlogloss:0.479519\n",
      "[216]\tvalidation_0-merror:0.002145\tvalidation_0-mlogloss:0.079991\tvalidation_1-merror:0.157397\tvalidation_1-mlogloss:0.479934\n",
      "[217]\tvalidation_0-merror:0.001907\tvalidation_0-mlogloss:0.079459\tvalidation_1-merror:0.157119\tvalidation_1-mlogloss:0.480176\n",
      "Stopping. Best iteration:\n",
      "[197]\tvalidation_0-merror:0.003695\tvalidation_0-mlogloss:0.093716\tvalidation_1-merror:0.157119\tvalidation_1-mlogloss:0.478701\n",
      "\n",
      "Accuracy: 84.29%\n"
     ]
    },
    {
     "data": {
      "image/png": "[encoded data removed]",
      "text/plain": [
       "<matplotlib.figure.Figure at 0x7f8c4cf4b490>"
      ]
     },
     "metadata": {},
     "output_type": "display_data"
    },
    {
     "data": {
      "image/png": "[encoded data removed]",
      "text/plain": [
       "<matplotlib.figure.Figure at 0x7f8c4cfa2050>"
      ]
     },
     "metadata": {},
     "output_type": "display_data"
    }
   ],
   "source": [
    "from sklearn.metrics import accuracy_score\n",
    "model = xgboost.XGBClassifier(learning_rate =0.1,\n",
    " n_estimators=3000,\n",
    " max_depth=4,\n",
    " min_child_weight=1,\n",
    " gamma=0,\n",
    " subsample=0.5,\n",
    " colsample_bytree=0.8,\n",
    " reg_alpha=0.005,\n",
    " objective= 'multi:softmax',\n",
    " nthread=8,\n",
    " scale_pos_weight=1,\n",
    " seed=22)\n",
    "evaluation_set = [(X_train_full, y_train_full), (X_test_full, y_test_full)]\n",
    "model.fit(X_train_full, y_train_full, eval_metric=[\"merror\", \"mlogloss\"], eval_set=evaluation_set,early_stopping_rounds=20, verbose=True)\n",
    "\n",
    "y_predictions = model.predict(X_test_full)\n",
    "# evaluate predictions\n",
    "accuracy = accuracy_score(y_test_full, y_predictions)\n",
    "print(\"Accuracy: %.2f%%\" % (accuracy * 100.0))\n",
    "# retrieve performance metrics\n",
    "results = model.evals_result()\n",
    "epochs = len(results['validation_0']['merror'])\n",
    "x_axis = range(0, epochs)\n",
    "# plot log loss\n",
    "fig, ax = plt.subplots()\n",
    "ax.plot(x_axis, results['validation_0']['mlogloss'], label='Train')\n",
    "ax.plot(x_axis, results['validation_1']['mlogloss'], label='Test')\n",
    "ax.legend()\n",
    "plt.ylabel('Log Loss')\n",
    "plt.title('XGBoost Log Loss')\n",
    "plt.show()\n",
    "# plot classification error\n",
    "fig, ax = plt.subplots()\n",
    "ax.plot(x_axis, results['validation_0']['merror'], label='Train')\n",
    "ax.plot(x_axis, results['validation_1']['merror'], label='Test')\n",
    "ax.legend()\n",
    "plt.ylabel('Classification Error')\n",
    "plt.title('XGBoost Classification Error')\n",
    "plt.show()"
   ]
  }
 ],
 "metadata": {
  "kernelspec": {
   "display_name": "Python 2",
   "language": "python",
   "name": "python2"
  },
  "language_info": {
   "codemirror_mode": {
    "name": "ipython",
    "version": 2
   },
   "file_extension": ".py",
   "mimetype": "text/x-python",
   "name": "python",
   "nbconvert_exporter": "python",
   "pygments_lexer": "ipython2",
   "version": "2.7.12"
  }
 },
 "nbformat": 4,
 "nbformat_minor": 1
}
